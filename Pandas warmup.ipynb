{
 "cells": [
  {
   "cell_type": "code",
   "execution_count": 17,
   "id": "0435160d-c6ae-4d7e-9612-6a6b0fb6ddc2",
   "metadata": {},
   "outputs": [],
   "source": [
    "import pandas as pd\n",
    "import sqlite3\n",
    "import sqlalchemy"
   ]
  },
  {
   "cell_type": "code",
   "execution_count": 19,
   "id": "f023a958-9876-4d87-8a7b-f96cf71f716e",
   "metadata": {},
   "outputs": [
    {
     "name": "stdout",
     "output_type": "stream",
     "text": [
      "Requirement already satisfied: sqlalchemy in /opt/anaconda3/lib/python3.12/site-packages (2.0.30)\n",
      "Requirement already satisfied: typing-extensions>=4.6.0 in /opt/anaconda3/lib/python3.12/site-packages (from sqlalchemy) (4.11.0)\n"
     ]
    }
   ],
   "source": [
    "!pip install sqlalchemy"
   ]
  },
  {
   "cell_type": "code",
   "execution_count": 13,
   "id": "4c52ab67-8a39-461d-a6cf-9ff1e6525e1c",
   "metadata": {},
   "outputs": [
    {
     "data": {
      "text/html": [
       "<div>\n",
       "<style scoped>\n",
       "    .dataframe tbody tr th:only-of-type {\n",
       "        vertical-align: middle;\n",
       "    }\n",
       "\n",
       "    .dataframe tbody tr th {\n",
       "        vertical-align: top;\n",
       "    }\n",
       "\n",
       "    .dataframe thead th {\n",
       "        text-align: right;\n",
       "    }\n",
       "</style>\n",
       "<table border=\"1\" class=\"dataframe\">\n",
       "  <thead>\n",
       "    <tr style=\"text-align: right;\">\n",
       "      <th></th>\n",
       "      <th>Names</th>\n",
       "      <th>Marks</th>\n",
       "      <th>Gender</th>\n",
       "    </tr>\n",
       "  </thead>\n",
       "  <tbody>\n",
       "    <tr>\n",
       "      <th>0</th>\n",
       "      <td>Esmi</td>\n",
       "      <td>76</td>\n",
       "      <td>Female</td>\n",
       "    </tr>\n",
       "    <tr>\n",
       "      <th>1</th>\n",
       "      <td>Kwaku</td>\n",
       "      <td>87</td>\n",
       "      <td>Male</td>\n",
       "    </tr>\n",
       "    <tr>\n",
       "      <th>2</th>\n",
       "      <td>Ana</td>\n",
       "      <td>56</td>\n",
       "      <td>Female</td>\n",
       "    </tr>\n",
       "    <tr>\n",
       "      <th>3</th>\n",
       "      <td>Desmond</td>\n",
       "      <td>67</td>\n",
       "      <td>Male</td>\n",
       "    </tr>\n",
       "    <tr>\n",
       "      <th>4</th>\n",
       "      <td>Darpoh</td>\n",
       "      <td>78</td>\n",
       "      <td>Male</td>\n",
       "    </tr>\n",
       "    <tr>\n",
       "      <th>5</th>\n",
       "      <td>Joan</td>\n",
       "      <td>99</td>\n",
       "      <td>Female</td>\n",
       "    </tr>\n",
       "    <tr>\n",
       "      <th>6</th>\n",
       "      <td>Nate</td>\n",
       "      <td>90</td>\n",
       "      <td>Male</td>\n",
       "    </tr>\n",
       "  </tbody>\n",
       "</table>\n",
       "</div>"
      ],
      "text/plain": [
       "     Names  Marks  Gender\n",
       "0     Esmi     76  Female\n",
       "1    Kwaku     87    Male\n",
       "2      Ana     56  Female\n",
       "3  Desmond     67    Male\n",
       "4   Darpoh     78    Male\n",
       "5     Joan     99  Female\n",
       "6     Nate     90    Male"
      ]
     },
     "execution_count": 13,
     "metadata": {},
     "output_type": "execute_result"
    }
   ],
   "source": [
    "dict = {'Names':['Esmi','Kwaku','Ana','Desmond','Darpoh','Joan','Nate'],\n",
    "        'Marks':[76,87,56,67,78,99,90],\n",
    "        'Gender':['Female','Male','Female','Male','Male','Female','Male']\n",
    "}\n",
    "\n",
    "df1 = pd.DataFrame(dict)\n",
    "df1\n",
    "\n"
   ]
  },
  {
   "cell_type": "markdown",
   "id": "86ee2dd8-2ab3-4cd9-9b1f-b68a6cd2a931",
   "metadata": {},
   "source": [
    "# Display top 3 rows"
   ]
  },
  {
   "cell_type": "code",
   "execution_count": 11,
   "id": "d9868b71-fe49-4d09-af90-97f3cfed7bf9",
   "metadata": {},
   "outputs": [
    {
     "data": {
      "text/html": [
       "<div>\n",
       "<style scoped>\n",
       "    .dataframe tbody tr th:only-of-type {\n",
       "        vertical-align: middle;\n",
       "    }\n",
       "\n",
       "    .dataframe tbody tr th {\n",
       "        vertical-align: top;\n",
       "    }\n",
       "\n",
       "    .dataframe thead th {\n",
       "        text-align: right;\n",
       "    }\n",
       "</style>\n",
       "<table border=\"1\" class=\"dataframe\">\n",
       "  <thead>\n",
       "    <tr style=\"text-align: right;\">\n",
       "      <th></th>\n",
       "      <th>Names</th>\n",
       "      <th>Marks</th>\n",
       "      <th>Gender</th>\n",
       "    </tr>\n",
       "  </thead>\n",
       "  <tbody>\n",
       "    <tr>\n",
       "      <th>0</th>\n",
       "      <td>Esmi</td>\n",
       "      <td>76</td>\n",
       "      <td>Female</td>\n",
       "    </tr>\n",
       "    <tr>\n",
       "      <th>1</th>\n",
       "      <td>Kwaku</td>\n",
       "      <td>87</td>\n",
       "      <td>Male</td>\n",
       "    </tr>\n",
       "    <tr>\n",
       "      <th>2</th>\n",
       "      <td>Ana</td>\n",
       "      <td>56</td>\n",
       "      <td>Female</td>\n",
       "    </tr>\n",
       "    <tr>\n",
       "      <th>3</th>\n",
       "      <td>Desmond</td>\n",
       "      <td>67</td>\n",
       "      <td>Male</td>\n",
       "    </tr>\n",
       "    <tr>\n",
       "      <th>4</th>\n",
       "      <td>Darpoh</td>\n",
       "      <td>78</td>\n",
       "      <td>Male</td>\n",
       "    </tr>\n",
       "  </tbody>\n",
       "</table>\n",
       "</div>"
      ],
      "text/plain": [
       "     Names  Marks  Gender\n",
       "0     Esmi     76  Female\n",
       "1    Kwaku     87    Male\n",
       "2      Ana     56  Female\n",
       "3  Desmond     67    Male\n",
       "4   Darpoh     78    Male"
      ]
     },
     "execution_count": 11,
     "metadata": {},
     "output_type": "execute_result"
    }
   ],
   "source": [
    "# This display first 5 rows\n",
    "df1.head()"
   ]
  },
  {
   "cell_type": "code",
   "execution_count": 33,
   "id": "9fb38235-d17d-43b0-b5fa-e2b99ecb561c",
   "metadata": {},
   "outputs": [
    {
     "data": {
      "text/html": [
       "<div>\n",
       "<style scoped>\n",
       "    .dataframe tbody tr th:only-of-type {\n",
       "        vertical-align: middle;\n",
       "    }\n",
       "\n",
       "    .dataframe tbody tr th {\n",
       "        vertical-align: top;\n",
       "    }\n",
       "\n",
       "    .dataframe thead th {\n",
       "        text-align: right;\n",
       "    }\n",
       "</style>\n",
       "<table border=\"1\" class=\"dataframe\">\n",
       "  <thead>\n",
       "    <tr style=\"text-align: right;\">\n",
       "      <th></th>\n",
       "      <th>Names</th>\n",
       "      <th>Marks</th>\n",
       "      <th>Gender</th>\n",
       "    </tr>\n",
       "  </thead>\n",
       "  <tbody>\n",
       "    <tr>\n",
       "      <th>0</th>\n",
       "      <td>Esmi</td>\n",
       "      <td>76</td>\n",
       "      <td>Female</td>\n",
       "    </tr>\n",
       "    <tr>\n",
       "      <th>1</th>\n",
       "      <td>Kwaku</td>\n",
       "      <td>87</td>\n",
       "      <td>Male</td>\n",
       "    </tr>\n",
       "    <tr>\n",
       "      <th>2</th>\n",
       "      <td>Ana</td>\n",
       "      <td>56</td>\n",
       "      <td>Female</td>\n",
       "    </tr>\n",
       "  </tbody>\n",
       "</table>\n",
       "</div>"
      ],
      "text/plain": [
       "   Names  Marks  Gender\n",
       "0   Esmi     76  Female\n",
       "1  Kwaku     87    Male\n",
       "2    Ana     56  Female"
      ]
     },
     "execution_count": 33,
     "metadata": {},
     "output_type": "execute_result"
    }
   ],
   "source": [
    "# For first 3 rows\n",
    "df1.head(3)"
   ]
  },
  {
   "cell_type": "markdown",
   "id": "1b66e86e-466a-4966-b5a6-f037a6aa08b1",
   "metadata": {},
   "source": [
    "# Check last 3 rows"
   ]
  },
  {
   "cell_type": "code",
   "execution_count": 13,
   "id": "84279176-7320-43e8-86d2-d3c636fc5e86",
   "metadata": {},
   "outputs": [
    {
     "data": {
      "text/html": [
       "<div>\n",
       "<style scoped>\n",
       "    .dataframe tbody tr th:only-of-type {\n",
       "        vertical-align: middle;\n",
       "    }\n",
       "\n",
       "    .dataframe tbody tr th {\n",
       "        vertical-align: top;\n",
       "    }\n",
       "\n",
       "    .dataframe thead th {\n",
       "        text-align: right;\n",
       "    }\n",
       "</style>\n",
       "<table border=\"1\" class=\"dataframe\">\n",
       "  <thead>\n",
       "    <tr style=\"text-align: right;\">\n",
       "      <th></th>\n",
       "      <th>Names</th>\n",
       "      <th>Marks</th>\n",
       "      <th>Gender</th>\n",
       "    </tr>\n",
       "  </thead>\n",
       "  <tbody>\n",
       "    <tr>\n",
       "      <th>2</th>\n",
       "      <td>Ana</td>\n",
       "      <td>56</td>\n",
       "      <td>Female</td>\n",
       "    </tr>\n",
       "    <tr>\n",
       "      <th>3</th>\n",
       "      <td>Desmond</td>\n",
       "      <td>67</td>\n",
       "      <td>Male</td>\n",
       "    </tr>\n",
       "    <tr>\n",
       "      <th>4</th>\n",
       "      <td>Darpoh</td>\n",
       "      <td>78</td>\n",
       "      <td>Male</td>\n",
       "    </tr>\n",
       "    <tr>\n",
       "      <th>5</th>\n",
       "      <td>Joan</td>\n",
       "      <td>99</td>\n",
       "      <td>Female</td>\n",
       "    </tr>\n",
       "    <tr>\n",
       "      <th>6</th>\n",
       "      <td>Nate</td>\n",
       "      <td>90</td>\n",
       "      <td>Male</td>\n",
       "    </tr>\n",
       "  </tbody>\n",
       "</table>\n",
       "</div>"
      ],
      "text/plain": [
       "     Names  Marks  Gender\n",
       "2      Ana     56  Female\n",
       "3  Desmond     67    Male\n",
       "4   Darpoh     78    Male\n",
       "5     Joan     99  Female\n",
       "6     Nate     90    Male"
      ]
     },
     "execution_count": 13,
     "metadata": {},
     "output_type": "execute_result"
    }
   ],
   "source": [
    "# This displays last 5 rows\n",
    "df1.tail()"
   ]
  },
  {
   "cell_type": "code",
   "execution_count": 43,
   "id": "a64d447e-0a38-40dc-92b0-193cfb5e7bf0",
   "metadata": {},
   "outputs": [
    {
     "data": {
      "text/html": [
       "<div>\n",
       "<style scoped>\n",
       "    .dataframe tbody tr th:only-of-type {\n",
       "        vertical-align: middle;\n",
       "    }\n",
       "\n",
       "    .dataframe tbody tr th {\n",
       "        vertical-align: top;\n",
       "    }\n",
       "\n",
       "    .dataframe thead th {\n",
       "        text-align: right;\n",
       "    }\n",
       "</style>\n",
       "<table border=\"1\" class=\"dataframe\">\n",
       "  <thead>\n",
       "    <tr style=\"text-align: right;\">\n",
       "      <th></th>\n",
       "      <th>Names</th>\n",
       "      <th>Marks</th>\n",
       "      <th>Gender</th>\n",
       "    </tr>\n",
       "  </thead>\n",
       "  <tbody>\n",
       "    <tr>\n",
       "      <th>0</th>\n",
       "      <td>Esmi</td>\n",
       "      <td>76</td>\n",
       "      <td>Female</td>\n",
       "    </tr>\n",
       "    <tr>\n",
       "      <th>1</th>\n",
       "      <td>Kwaku</td>\n",
       "      <td>87</td>\n",
       "      <td>Male</td>\n",
       "    </tr>\n",
       "    <tr>\n",
       "      <th>2</th>\n",
       "      <td>Ana</td>\n",
       "      <td>56</td>\n",
       "      <td>Female</td>\n",
       "    </tr>\n",
       "  </tbody>\n",
       "</table>\n",
       "</div>"
      ],
      "text/plain": [
       "   Names  Marks  Gender\n",
       "0   Esmi     76  Female\n",
       "1  Kwaku     87    Male\n",
       "2    Ana     56  Female"
      ]
     },
     "execution_count": 43,
     "metadata": {},
     "output_type": "execute_result"
    }
   ],
   "source": [
    "# For the last 3 rows\n",
    "df1.head(3)"
   ]
  },
  {
   "cell_type": "markdown",
   "id": "d4f6bf73-8205-4f6f-8927-fa3d92e01d20",
   "metadata": {},
   "source": [
    "# Find the shape of dataset (Number of Rows and columns)"
   ]
  },
  {
   "cell_type": "code",
   "execution_count": 45,
   "id": "93cb9788-b606-46ba-af7b-e5ad1b675a11",
   "metadata": {},
   "outputs": [
    {
     "data": {
      "text/plain": [
       "(7, 3)"
      ]
     },
     "execution_count": 45,
     "metadata": {},
     "output_type": "execute_result"
    }
   ],
   "source": [
    "# Note- shape is not a method but an attribute\n",
    "df1.shape"
   ]
  },
  {
   "cell_type": "code",
   "execution_count": 47,
   "id": "4b1d9903-c199-45a1-8bd2-03a1e11efc71",
   "metadata": {},
   "outputs": [
    {
     "name": "stdout",
     "output_type": "stream",
     "text": [
      "Number of Rows 7\n",
      "Number of columns 3\n"
     ]
    }
   ],
   "source": [
    "print('Number of Rows',df1.shape[0])\n",
    "print('Number of columns', df1.shape[1])      "
   ]
  },
  {
   "cell_type": "markdown",
   "id": "a66104a2-32ec-4a18-baee-18e951f9d157",
   "metadata": {},
   "source": [
    "# Get information About Our Dataset Like Total Number of Rows , Tptal Number of Columns, Datatypes of each column and memory requirements"
   ]
  },
  {
   "cell_type": "code",
   "execution_count": 50,
   "id": "aa013014-b4e2-4c13-8fda-ba17b7025049",
   "metadata": {},
   "outputs": [
    {
     "name": "stdout",
     "output_type": "stream",
     "text": [
      "<class 'pandas.core.frame.DataFrame'>\n",
      "RangeIndex: 7 entries, 0 to 6\n",
      "Data columns (total 3 columns):\n",
      " #   Column  Non-Null Count  Dtype \n",
      "---  ------  --------------  ----- \n",
      " 0   Names   7 non-null      object\n",
      " 1   Marks   7 non-null      int64 \n",
      " 2   Gender  7 non-null      object\n",
      "dtypes: int64(1), object(2)\n",
      "memory usage: 300.0+ bytes\n"
     ]
    }
   ],
   "source": [
    "df1.info()"
   ]
  },
  {
   "cell_type": "markdown",
   "id": "707f0395-50b1-4abc-8ca8-66fd21d863d9",
   "metadata": {},
   "source": [
    "# Check Null Values in Datasets"
   ]
  },
  {
   "cell_type": "code",
   "execution_count": 53,
   "id": "5dcf9f55-c2cb-405d-b680-fb8b2823e5e4",
   "metadata": {},
   "outputs": [
    {
     "data": {
      "text/html": [
       "<div>\n",
       "<style scoped>\n",
       "    .dataframe tbody tr th:only-of-type {\n",
       "        vertical-align: middle;\n",
       "    }\n",
       "\n",
       "    .dataframe tbody tr th {\n",
       "        vertical-align: top;\n",
       "    }\n",
       "\n",
       "    .dataframe thead th {\n",
       "        text-align: right;\n",
       "    }\n",
       "</style>\n",
       "<table border=\"1\" class=\"dataframe\">\n",
       "  <thead>\n",
       "    <tr style=\"text-align: right;\">\n",
       "      <th></th>\n",
       "      <th>Names</th>\n",
       "      <th>Marks</th>\n",
       "      <th>Gender</th>\n",
       "    </tr>\n",
       "  </thead>\n",
       "  <tbody>\n",
       "    <tr>\n",
       "      <th>0</th>\n",
       "      <td>False</td>\n",
       "      <td>False</td>\n",
       "      <td>False</td>\n",
       "    </tr>\n",
       "    <tr>\n",
       "      <th>1</th>\n",
       "      <td>False</td>\n",
       "      <td>False</td>\n",
       "      <td>False</td>\n",
       "    </tr>\n",
       "    <tr>\n",
       "      <th>2</th>\n",
       "      <td>False</td>\n",
       "      <td>False</td>\n",
       "      <td>False</td>\n",
       "    </tr>\n",
       "    <tr>\n",
       "      <th>3</th>\n",
       "      <td>False</td>\n",
       "      <td>False</td>\n",
       "      <td>False</td>\n",
       "    </tr>\n",
       "    <tr>\n",
       "      <th>4</th>\n",
       "      <td>False</td>\n",
       "      <td>False</td>\n",
       "      <td>False</td>\n",
       "    </tr>\n",
       "    <tr>\n",
       "      <th>5</th>\n",
       "      <td>False</td>\n",
       "      <td>False</td>\n",
       "      <td>False</td>\n",
       "    </tr>\n",
       "    <tr>\n",
       "      <th>6</th>\n",
       "      <td>False</td>\n",
       "      <td>False</td>\n",
       "      <td>False</td>\n",
       "    </tr>\n",
       "  </tbody>\n",
       "</table>\n",
       "</div>"
      ],
      "text/plain": [
       "   Names  Marks  Gender\n",
       "0  False  False   False\n",
       "1  False  False   False\n",
       "2  False  False   False\n",
       "3  False  False   False\n",
       "4  False  False   False\n",
       "5  False  False   False\n",
       "6  False  False   False"
      ]
     },
     "execution_count": 53,
     "metadata": {},
     "output_type": "execute_result"
    }
   ],
   "source": [
    "df1.isnull()"
   ]
  },
  {
   "cell_type": "code",
   "execution_count": 55,
   "id": "ea5245fe-f9d4-47c7-bd2b-d7ffa30821f7",
   "metadata": {},
   "outputs": [
    {
     "data": {
      "text/plain": [
       "Names     0\n",
       "Marks     0\n",
       "Gender    0\n",
       "dtype: int64"
      ]
     },
     "execution_count": 55,
     "metadata": {},
     "output_type": "execute_result"
    }
   ],
   "source": [
    "# To check the summ of the null values\n",
    "df1.isnull().sum()\n",
    "# Means the are no null values"
   ]
  },
  {
   "cell_type": "code",
   "execution_count": 59,
   "id": "8bff486f-9989-404b-9dd9-f900b64438b3",
   "metadata": {},
   "outputs": [
    {
     "data": {
      "text/plain": [
       "0    0\n",
       "1    0\n",
       "2    0\n",
       "3    0\n",
       "4    0\n",
       "5    0\n",
       "6    0\n",
       "dtype: int64"
      ]
     },
     "execution_count": 59,
     "metadata": {},
     "output_type": "execute_result"
    }
   ],
   "source": [
    "# if you pass an argument into the sum() like x- axis\n",
    "df1.isnull().sum(axis=1)\n",
    "#This will display null value count row-wise"
   ]
  },
  {
   "cell_type": "code",
   "execution_count": 63,
   "id": "44740d66-f292-43b3-a93a-243679ee3ce6",
   "metadata": {},
   "outputs": [
    {
     "data": {
      "text/plain": [
       "Names     0\n",
       "Marks     0\n",
       "Gender    0\n",
       "dtype: int64"
      ]
     },
     "execution_count": 63,
     "metadata": {},
     "output_type": "execute_result"
    }
   ],
   "source": [
    "# And this would display null value count column-wise\n",
    "df1.isnull().sum(axis=0)"
   ]
  },
  {
   "cell_type": "markdown",
   "id": "a5c342e1-9778-4b63-a3c3-a69b84021c6c",
   "metadata": {},
   "source": [
    "# Get Overall Statistics About DataFrame"
   ]
  },
  {
   "cell_type": "code",
   "execution_count": 66,
   "id": "dd70f4ff-85c0-4a1e-8e03-bbaa0cc03ff4",
   "metadata": {},
   "outputs": [
    {
     "data": {
      "text/html": [
       "<div>\n",
       "<style scoped>\n",
       "    .dataframe tbody tr th:only-of-type {\n",
       "        vertical-align: middle;\n",
       "    }\n",
       "\n",
       "    .dataframe tbody tr th {\n",
       "        vertical-align: top;\n",
       "    }\n",
       "\n",
       "    .dataframe thead th {\n",
       "        text-align: right;\n",
       "    }\n",
       "</style>\n",
       "<table border=\"1\" class=\"dataframe\">\n",
       "  <thead>\n",
       "    <tr style=\"text-align: right;\">\n",
       "      <th></th>\n",
       "      <th>Marks</th>\n",
       "    </tr>\n",
       "  </thead>\n",
       "  <tbody>\n",
       "    <tr>\n",
       "      <th>count</th>\n",
       "      <td>7.000000</td>\n",
       "    </tr>\n",
       "    <tr>\n",
       "      <th>mean</th>\n",
       "      <td>79.000000</td>\n",
       "    </tr>\n",
       "    <tr>\n",
       "      <th>std</th>\n",
       "      <td>14.537308</td>\n",
       "    </tr>\n",
       "    <tr>\n",
       "      <th>min</th>\n",
       "      <td>56.000000</td>\n",
       "    </tr>\n",
       "    <tr>\n",
       "      <th>25%</th>\n",
       "      <td>71.500000</td>\n",
       "    </tr>\n",
       "    <tr>\n",
       "      <th>50%</th>\n",
       "      <td>78.000000</td>\n",
       "    </tr>\n",
       "    <tr>\n",
       "      <th>75%</th>\n",
       "      <td>88.500000</td>\n",
       "    </tr>\n",
       "    <tr>\n",
       "      <th>max</th>\n",
       "      <td>99.000000</td>\n",
       "    </tr>\n",
       "  </tbody>\n",
       "</table>\n",
       "</div>"
      ],
      "text/plain": [
       "           Marks\n",
       "count   7.000000\n",
       "mean   79.000000\n",
       "std    14.537308\n",
       "min    56.000000\n",
       "25%    71.500000\n",
       "50%    78.000000\n",
       "75%    88.500000\n",
       "max    99.000000"
      ]
     },
     "execution_count": 66,
     "metadata": {},
     "output_type": "execute_result"
    }
   ],
   "source": [
    "#This will display coloumn-wise statistics but it did for only columns with numbers\n",
    "df1.describe()"
   ]
  },
  {
   "cell_type": "code",
   "execution_count": 68,
   "id": "f7860f25-9c96-4878-9d02-24d9cacb4683",
   "metadata": {},
   "outputs": [
    {
     "data": {
      "text/html": [
       "<div>\n",
       "<style scoped>\n",
       "    .dataframe tbody tr th:only-of-type {\n",
       "        vertical-align: middle;\n",
       "    }\n",
       "\n",
       "    .dataframe tbody tr th {\n",
       "        vertical-align: top;\n",
       "    }\n",
       "\n",
       "    .dataframe thead th {\n",
       "        text-align: right;\n",
       "    }\n",
       "</style>\n",
       "<table border=\"1\" class=\"dataframe\">\n",
       "  <thead>\n",
       "    <tr style=\"text-align: right;\">\n",
       "      <th></th>\n",
       "      <th>Names</th>\n",
       "      <th>Marks</th>\n",
       "      <th>Gender</th>\n",
       "    </tr>\n",
       "  </thead>\n",
       "  <tbody>\n",
       "    <tr>\n",
       "      <th>count</th>\n",
       "      <td>7</td>\n",
       "      <td>7.000000</td>\n",
       "      <td>7</td>\n",
       "    </tr>\n",
       "    <tr>\n",
       "      <th>unique</th>\n",
       "      <td>7</td>\n",
       "      <td>NaN</td>\n",
       "      <td>2</td>\n",
       "    </tr>\n",
       "    <tr>\n",
       "      <th>top</th>\n",
       "      <td>Esmi</td>\n",
       "      <td>NaN</td>\n",
       "      <td>Male</td>\n",
       "    </tr>\n",
       "    <tr>\n",
       "      <th>freq</th>\n",
       "      <td>1</td>\n",
       "      <td>NaN</td>\n",
       "      <td>4</td>\n",
       "    </tr>\n",
       "    <tr>\n",
       "      <th>mean</th>\n",
       "      <td>NaN</td>\n",
       "      <td>79.000000</td>\n",
       "      <td>NaN</td>\n",
       "    </tr>\n",
       "    <tr>\n",
       "      <th>std</th>\n",
       "      <td>NaN</td>\n",
       "      <td>14.537308</td>\n",
       "      <td>NaN</td>\n",
       "    </tr>\n",
       "    <tr>\n",
       "      <th>min</th>\n",
       "      <td>NaN</td>\n",
       "      <td>56.000000</td>\n",
       "      <td>NaN</td>\n",
       "    </tr>\n",
       "    <tr>\n",
       "      <th>25%</th>\n",
       "      <td>NaN</td>\n",
       "      <td>71.500000</td>\n",
       "      <td>NaN</td>\n",
       "    </tr>\n",
       "    <tr>\n",
       "      <th>50%</th>\n",
       "      <td>NaN</td>\n",
       "      <td>78.000000</td>\n",
       "      <td>NaN</td>\n",
       "    </tr>\n",
       "    <tr>\n",
       "      <th>75%</th>\n",
       "      <td>NaN</td>\n",
       "      <td>88.500000</td>\n",
       "      <td>NaN</td>\n",
       "    </tr>\n",
       "    <tr>\n",
       "      <th>max</th>\n",
       "      <td>NaN</td>\n",
       "      <td>99.000000</td>\n",
       "      <td>NaN</td>\n",
       "    </tr>\n",
       "  </tbody>\n",
       "</table>\n",
       "</div>"
      ],
      "text/plain": [
       "       Names      Marks Gender\n",
       "count      7   7.000000      7\n",
       "unique     7        NaN      2\n",
       "top     Esmi        NaN   Male\n",
       "freq       1        NaN      4\n",
       "mean     NaN  79.000000    NaN\n",
       "std      NaN  14.537308    NaN\n",
       "min      NaN  56.000000    NaN\n",
       "25%      NaN  71.500000    NaN\n",
       "50%      NaN  78.000000    NaN\n",
       "75%      NaN  88.500000    NaN\n",
       "max      NaN  99.000000    NaN"
      ]
     },
     "execution_count": 68,
     "metadata": {},
     "output_type": "execute_result"
    }
   ],
   "source": [
    "# If we want it to display the statistics of all the other columns pass 'all'\n",
    "df1.describe(include=\"all\")"
   ]
  },
  {
   "cell_type": "markdown",
   "id": "77243de0-2dca-4fed-a84f-0f3339321e0e",
   "metadata": {},
   "source": [
    "# Find Unique Values From The Gender column"
   ]
  },
  {
   "cell_type": "code",
   "execution_count": 71,
   "id": "4a992c2e-0f7e-4d25-a764-919d88b4d49d",
   "metadata": {},
   "outputs": [
    {
     "data": {
      "text/plain": [
       "array(['Female', 'Male'], dtype=object)"
      ]
     },
     "execution_count": 71,
     "metadata": {},
     "output_type": "execute_result"
    }
   ],
   "source": [
    "df1['Gender'].unique()"
   ]
  },
  {
   "cell_type": "markdown",
   "id": "f5d37631-04fd-4ea2-98e5-0b558b59ae5d",
   "metadata": {},
   "source": [
    "# Find the number of unique values from the gender column"
   ]
  },
  {
   "cell_type": "code",
   "execution_count": 76,
   "id": "53e5f1e7-4d79-4e49-8343-4039b87af27c",
   "metadata": {},
   "outputs": [
    {
     "data": {
      "text/plain": [
       "2"
      ]
     },
     "execution_count": 76,
     "metadata": {},
     "output_type": "execute_result"
    }
   ],
   "source": [
    "# nunique was used\n",
    "df1['Gender'].nunique()"
   ]
  },
  {
   "cell_type": "markdown",
   "id": "f7c6ba65-1086-4d7b-af8d-abb813fde00c",
   "metadata": {},
   "source": [
    "# Display count of Unique values in Gender Coloumn"
   ]
  },
  {
   "cell_type": "code",
   "execution_count": 81,
   "id": "fe07d27e-7eae-4402-ba14-29158d383352",
   "metadata": {},
   "outputs": [
    {
     "data": {
      "text/plain": [
       "Gender\n",
       "Male      4\n",
       "Female    3\n",
       "Name: count, dtype: int64"
      ]
     },
     "execution_count": 81,
     "metadata": {},
     "output_type": "execute_result"
    }
   ],
   "source": [
    "df1['Gender'].value_counts()"
   ]
  },
  {
   "cell_type": "markdown",
   "id": "a9797e2c-b7fc-4a7f-bd80-48da6e2f9618",
   "metadata": {},
   "source": [
    "# Find total number of students with marks between 90 to 100 (inclusive) Using Between Method"
   ]
  },
  {
   "cell_type": "code",
   "execution_count": 88,
   "id": "5a536cc7-2bfa-4fbd-9382-a76a9672767d",
   "metadata": {},
   "outputs": [
    {
     "data": {
      "text/html": [
       "<div>\n",
       "<style scoped>\n",
       "    .dataframe tbody tr th:only-of-type {\n",
       "        vertical-align: middle;\n",
       "    }\n",
       "\n",
       "    .dataframe tbody tr th {\n",
       "        vertical-align: top;\n",
       "    }\n",
       "\n",
       "    .dataframe thead th {\n",
       "        text-align: right;\n",
       "    }\n",
       "</style>\n",
       "<table border=\"1\" class=\"dataframe\">\n",
       "  <thead>\n",
       "    <tr style=\"text-align: right;\">\n",
       "      <th></th>\n",
       "      <th>Names</th>\n",
       "      <th>Marks</th>\n",
       "      <th>Gender</th>\n",
       "    </tr>\n",
       "  </thead>\n",
       "  <tbody>\n",
       "    <tr>\n",
       "      <th>5</th>\n",
       "      <td>Joan</td>\n",
       "      <td>99</td>\n",
       "      <td>Female</td>\n",
       "    </tr>\n",
       "    <tr>\n",
       "      <th>6</th>\n",
       "      <td>Nate</td>\n",
       "      <td>90</td>\n",
       "      <td>Male</td>\n",
       "    </tr>\n",
       "  </tbody>\n",
       "</table>\n",
       "</div>"
      ],
      "text/plain": [
       "  Names  Marks  Gender\n",
       "5  Joan     99  Female\n",
       "6  Nate     90    Male"
      ]
     },
     "execution_count": 88,
     "metadata": {},
     "output_type": "execute_result"
    }
   ],
   "source": [
    "# We can solve the above in many ways\n",
    "# way 1\n",
    "df1[df1['Marks']>=90]"
   ]
  },
  {
   "cell_type": "code",
   "execution_count": 94,
   "id": "00d3f271-a25c-47cc-b1f7-3929d3075941",
   "metadata": {},
   "outputs": [
    {
     "data": {
      "text/plain": [
       "0    False\n",
       "1    False\n",
       "2    False\n",
       "3    False\n",
       "4    False\n",
       "5     True\n",
       "6     True\n",
       "Name: Marks, dtype: bool"
      ]
     },
     "execution_count": 94,
     "metadata": {},
     "output_type": "execute_result"
    }
   ],
   "source": [
    "#Way 2\n",
    "# Note when writing two or more conditions dont forget your parenthesis\n",
    "(df1['Marks']>=90) & (df1['Marks']<=100)"
   ]
  },
  {
   "cell_type": "code",
   "execution_count": 106,
   "id": "f4a60309-0c6d-48b3-83e1-6a076ea7ff54",
   "metadata": {},
   "outputs": [
    {
     "data": {
      "text/plain": [
       "1"
      ]
     },
     "execution_count": 106,
     "metadata": {},
     "output_type": "execute_result"
    }
   ],
   "source": [
    "# For the count \n",
    "len([(df1['Marks']>=90) & (df1['Marks']<=100)])"
   ]
  },
  {
   "cell_type": "code",
   "execution_count": 102,
   "id": "1d9a0c41-ad5c-4806-8316-38744f9813a3",
   "metadata": {},
   "outputs": [
    {
     "data": {
      "text/plain": [
       "2"
      ]
     },
     "execution_count": 102,
     "metadata": {},
     "output_type": "execute_result"
    }
   ],
   "source": [
    "#Using the between method note- the between method is always inclusive\n",
    "sum(df1['Marks'].between(90,100))"
   ]
  },
  {
   "cell_type": "markdown",
   "id": "482138b0-9b82-44c8-8b54-4824af6547e6",
   "metadata": {},
   "source": [
    "# Average Marks\n",
    "\n"
   ]
  },
  {
   "cell_type": "code",
   "execution_count": 109,
   "id": "035fe552-6d0a-4501-b8ac-b3e5f00ccdd4",
   "metadata": {},
   "outputs": [
    {
     "data": {
      "text/plain": [
       "79.0"
      ]
     },
     "execution_count": 109,
     "metadata": {},
     "output_type": "execute_result"
    }
   ],
   "source": [
    "df1['Marks'].mean()"
   ]
  },
  {
   "cell_type": "code",
   "execution_count": 115,
   "id": "7ea938a3-4339-4e40-9ae2-77597b268d33",
   "metadata": {},
   "outputs": [
    {
     "name": "stdout",
     "output_type": "stream",
     "text": [
      "99\n",
      "56\n"
     ]
    }
   ],
   "source": [
    "# For max and min marks\n",
    "print(df1['Marks'].max())\n",
    "print(df1['Marks'].min())"
   ]
  },
  {
   "cell_type": "markdown",
   "id": "17151588-f334-4b34-9690-d205dbab4e6f",
   "metadata": {},
   "source": [
    "# Apply Method\n",
    "\n"
   ]
  },
  {
   "cell_type": "code",
   "execution_count": 118,
   "id": "50b2bc4c-d917-4662-b8cc-31c5e41ac124",
   "metadata": {},
   "outputs": [],
   "source": [
    "# This is when we want to use our own custom method"
   ]
  },
  {
   "cell_type": "code",
   "execution_count": 120,
   "id": "eddd039c-f654-4af9-ae08-18be23991e23",
   "metadata": {},
   "outputs": [],
   "source": [
    "def marks(x):\n",
    "    return x/2"
   ]
  },
  {
   "cell_type": "code",
   "execution_count": 122,
   "id": "0e857f01-922e-46b5-b905-e00689919d41",
   "metadata": {},
   "outputs": [
    {
     "data": {
      "text/plain": [
       "0    38.0\n",
       "1    43.5\n",
       "2    28.0\n",
       "3    33.5\n",
       "4    39.0\n",
       "5    49.5\n",
       "6    45.0\n",
       "Name: Marks, dtype: float64"
      ]
     },
     "execution_count": 122,
     "metadata": {},
     "output_type": "execute_result"
    }
   ],
   "source": [
    "df1['Marks'].apply(marks)"
   ]
  },
  {
   "cell_type": "markdown",
   "id": "a84b6b87-dcdf-43f3-b973-17b158f483ec",
   "metadata": {},
   "source": [
    "# To create a new column"
   ]
  },
  {
   "cell_type": "code",
   "execution_count": 127,
   "id": "e9c17a29-864f-40d5-b4b4-8ced20ba7d76",
   "metadata": {},
   "outputs": [],
   "source": [
    "# A new column called Half_Marks\n",
    "\n",
    "df1['Half_Marks'] = df1['Marks'].apply(marks)"
   ]
  },
  {
   "cell_type": "code",
   "execution_count": 129,
   "id": "6d4fdbcb-d5cb-4330-bf96-40fe1ea99991",
   "metadata": {},
   "outputs": [
    {
     "data": {
      "text/html": [
       "<div>\n",
       "<style scoped>\n",
       "    .dataframe tbody tr th:only-of-type {\n",
       "        vertical-align: middle;\n",
       "    }\n",
       "\n",
       "    .dataframe tbody tr th {\n",
       "        vertical-align: top;\n",
       "    }\n",
       "\n",
       "    .dataframe thead th {\n",
       "        text-align: right;\n",
       "    }\n",
       "</style>\n",
       "<table border=\"1\" class=\"dataframe\">\n",
       "  <thead>\n",
       "    <tr style=\"text-align: right;\">\n",
       "      <th></th>\n",
       "      <th>Names</th>\n",
       "      <th>Marks</th>\n",
       "      <th>Gender</th>\n",
       "      <th>Half_Marks</th>\n",
       "    </tr>\n",
       "  </thead>\n",
       "  <tbody>\n",
       "    <tr>\n",
       "      <th>0</th>\n",
       "      <td>Esmi</td>\n",
       "      <td>76</td>\n",
       "      <td>Female</td>\n",
       "      <td>38.0</td>\n",
       "    </tr>\n",
       "    <tr>\n",
       "      <th>1</th>\n",
       "      <td>Kwaku</td>\n",
       "      <td>87</td>\n",
       "      <td>Male</td>\n",
       "      <td>43.5</td>\n",
       "    </tr>\n",
       "    <tr>\n",
       "      <th>2</th>\n",
       "      <td>Ana</td>\n",
       "      <td>56</td>\n",
       "      <td>Female</td>\n",
       "      <td>28.0</td>\n",
       "    </tr>\n",
       "    <tr>\n",
       "      <th>3</th>\n",
       "      <td>Desmond</td>\n",
       "      <td>67</td>\n",
       "      <td>Male</td>\n",
       "      <td>33.5</td>\n",
       "    </tr>\n",
       "    <tr>\n",
       "      <th>4</th>\n",
       "      <td>Darpoh</td>\n",
       "      <td>78</td>\n",
       "      <td>Male</td>\n",
       "      <td>39.0</td>\n",
       "    </tr>\n",
       "    <tr>\n",
       "      <th>5</th>\n",
       "      <td>Joan</td>\n",
       "      <td>99</td>\n",
       "      <td>Female</td>\n",
       "      <td>49.5</td>\n",
       "    </tr>\n",
       "    <tr>\n",
       "      <th>6</th>\n",
       "      <td>Nate</td>\n",
       "      <td>90</td>\n",
       "      <td>Male</td>\n",
       "      <td>45.0</td>\n",
       "    </tr>\n",
       "  </tbody>\n",
       "</table>\n",
       "</div>"
      ],
      "text/plain": [
       "     Names  Marks  Gender  Half_Marks\n",
       "0     Esmi     76  Female        38.0\n",
       "1    Kwaku     87    Male        43.5\n",
       "2      Ana     56  Female        28.0\n",
       "3  Desmond     67    Male        33.5\n",
       "4   Darpoh     78    Male        39.0\n",
       "5     Joan     99  Female        49.5\n",
       "6     Nate     90    Male        45.0"
      ]
     },
     "execution_count": 129,
     "metadata": {},
     "output_type": "execute_result"
    }
   ],
   "source": [
    "df1"
   ]
  },
  {
   "cell_type": "code",
   "execution_count": 131,
   "id": "68f5ec1e-4061-4a7d-aed1-5312741373fd",
   "metadata": {},
   "outputs": [
    {
     "data": {
      "text/plain": [
       "0    38.0\n",
       "1    43.5\n",
       "2    28.0\n",
       "3    33.5\n",
       "4    39.0\n",
       "5    49.5\n",
       "6    45.0\n",
       "Name: Marks, dtype: float64"
      ]
     },
     "execution_count": 131,
     "metadata": {},
     "output_type": "execute_result"
    }
   ],
   "source": [
    "# Applying lambda function to marks column\n",
    "# Note lambda function is a quick function you can quickly use. also known a anonymous funct\n",
    "# So instead of defining a function you can quickly use a lambda function\n",
    "\n",
    "df1['Marks'].apply(lambda x:x/2)\n"
   ]
  },
  {
   "cell_type": "code",
   "execution_count": 133,
   "id": "b75db7db-167d-4a03-b326-fabdb9ec9d45",
   "metadata": {},
   "outputs": [
    {
     "data": {
      "text/plain": [
       "0    4\n",
       "1    5\n",
       "2    3\n",
       "3    7\n",
       "4    6\n",
       "5    4\n",
       "6    4\n",
       "Name: Names, dtype: int64"
      ]
     },
     "execution_count": 133,
     "metadata": {},
     "output_type": "execute_result"
    }
   ],
   "source": [
    "# another way to use the apply method \n",
    "# For instance to check length of Name column\n",
    "\n",
    "df1['Names'].apply(len)"
   ]
  },
  {
   "cell_type": "markdown",
   "id": "a37dc5bb-6483-4944-aaac-1b39555d32af",
   "metadata": {},
   "source": [
    "# Map Function"
   ]
  },
  {
   "cell_type": "code",
   "execution_count": 138,
   "id": "16c70a42-29e3-4cb8-9ef5-19dcf33152cc",
   "metadata": {},
   "outputs": [
    {
     "data": {
      "text/plain": [
       "0    0\n",
       "1    1\n",
       "2    0\n",
       "3    1\n",
       "4    1\n",
       "5    0\n",
       "6    1\n",
       "Name: Gender, dtype: int64"
      ]
     },
     "execution_count": 138,
     "metadata": {},
     "output_type": "execute_result"
    }
   ],
   "source": [
    "# We want to convert male to 1 and Females to 0 using map function\n",
    "df1['Gender'].map({'Male':1, 'Female':0})\n",
    "\n"
   ]
  },
  {
   "cell_type": "markdown",
   "id": "a6e9067a-0630-4930-a585-4a02d1842705",
   "metadata": {},
   "source": [
    "# Let create a new coloum for the binary gender"
   ]
  },
  {
   "cell_type": "code",
   "execution_count": 140,
   "id": "8011090a-990d-42ca-b319-5d229a8c67df",
   "metadata": {},
   "outputs": [],
   "source": [
    "\n",
    "df1['Gender_2'] = df1['Gender'].map({'Male':1, 'Female':0})"
   ]
  },
  {
   "cell_type": "code",
   "execution_count": 142,
   "id": "c25dc1d2-353d-4890-8591-2ce576a31811",
   "metadata": {},
   "outputs": [
    {
     "data": {
      "text/html": [
       "<div>\n",
       "<style scoped>\n",
       "    .dataframe tbody tr th:only-of-type {\n",
       "        vertical-align: middle;\n",
       "    }\n",
       "\n",
       "    .dataframe tbody tr th {\n",
       "        vertical-align: top;\n",
       "    }\n",
       "\n",
       "    .dataframe thead th {\n",
       "        text-align: right;\n",
       "    }\n",
       "</style>\n",
       "<table border=\"1\" class=\"dataframe\">\n",
       "  <thead>\n",
       "    <tr style=\"text-align: right;\">\n",
       "      <th></th>\n",
       "      <th>Names</th>\n",
       "      <th>Marks</th>\n",
       "      <th>Gender</th>\n",
       "      <th>Half_Marks</th>\n",
       "      <th>Gender_2</th>\n",
       "    </tr>\n",
       "  </thead>\n",
       "  <tbody>\n",
       "    <tr>\n",
       "      <th>0</th>\n",
       "      <td>Esmi</td>\n",
       "      <td>76</td>\n",
       "      <td>Female</td>\n",
       "      <td>38.0</td>\n",
       "      <td>0</td>\n",
       "    </tr>\n",
       "    <tr>\n",
       "      <th>1</th>\n",
       "      <td>Kwaku</td>\n",
       "      <td>87</td>\n",
       "      <td>Male</td>\n",
       "      <td>43.5</td>\n",
       "      <td>1</td>\n",
       "    </tr>\n",
       "    <tr>\n",
       "      <th>2</th>\n",
       "      <td>Ana</td>\n",
       "      <td>56</td>\n",
       "      <td>Female</td>\n",
       "      <td>28.0</td>\n",
       "      <td>0</td>\n",
       "    </tr>\n",
       "    <tr>\n",
       "      <th>3</th>\n",
       "      <td>Desmond</td>\n",
       "      <td>67</td>\n",
       "      <td>Male</td>\n",
       "      <td>33.5</td>\n",
       "      <td>1</td>\n",
       "    </tr>\n",
       "    <tr>\n",
       "      <th>4</th>\n",
       "      <td>Darpoh</td>\n",
       "      <td>78</td>\n",
       "      <td>Male</td>\n",
       "      <td>39.0</td>\n",
       "      <td>1</td>\n",
       "    </tr>\n",
       "    <tr>\n",
       "      <th>5</th>\n",
       "      <td>Joan</td>\n",
       "      <td>99</td>\n",
       "      <td>Female</td>\n",
       "      <td>49.5</td>\n",
       "      <td>0</td>\n",
       "    </tr>\n",
       "    <tr>\n",
       "      <th>6</th>\n",
       "      <td>Nate</td>\n",
       "      <td>90</td>\n",
       "      <td>Male</td>\n",
       "      <td>45.0</td>\n",
       "      <td>1</td>\n",
       "    </tr>\n",
       "  </tbody>\n",
       "</table>\n",
       "</div>"
      ],
      "text/plain": [
       "     Names  Marks  Gender  Half_Marks  Gender_2\n",
       "0     Esmi     76  Female        38.0         0\n",
       "1    Kwaku     87    Male        43.5         1\n",
       "2      Ana     56  Female        28.0         0\n",
       "3  Desmond     67    Male        33.5         1\n",
       "4   Darpoh     78    Male        39.0         1\n",
       "5     Joan     99  Female        49.5         0\n",
       "6     Nate     90    Male        45.0         1"
      ]
     },
     "execution_count": 142,
     "metadata": {},
     "output_type": "execute_result"
    }
   ],
   "source": [
    "df1"
   ]
  },
  {
   "cell_type": "markdown",
   "id": "8e16f180-daea-476f-b2f4-8808c1b36abb",
   "metadata": {},
   "source": [
    "# Drop column(s)"
   ]
  },
  {
   "cell_type": "code",
   "execution_count": 145,
   "id": "4de7fd98-987e-4a88-9dd8-92c1da054121",
   "metadata": {},
   "outputs": [
    {
     "data": {
      "text/html": [
       "<div>\n",
       "<style scoped>\n",
       "    .dataframe tbody tr th:only-of-type {\n",
       "        vertical-align: middle;\n",
       "    }\n",
       "\n",
       "    .dataframe tbody tr th {\n",
       "        vertical-align: top;\n",
       "    }\n",
       "\n",
       "    .dataframe thead th {\n",
       "        text-align: right;\n",
       "    }\n",
       "</style>\n",
       "<table border=\"1\" class=\"dataframe\">\n",
       "  <thead>\n",
       "    <tr style=\"text-align: right;\">\n",
       "      <th></th>\n",
       "      <th>Names</th>\n",
       "      <th>Marks</th>\n",
       "      <th>Gender</th>\n",
       "      <th>Half_Marks</th>\n",
       "    </tr>\n",
       "  </thead>\n",
       "  <tbody>\n",
       "    <tr>\n",
       "      <th>0</th>\n",
       "      <td>Esmi</td>\n",
       "      <td>76</td>\n",
       "      <td>Female</td>\n",
       "      <td>38.0</td>\n",
       "    </tr>\n",
       "    <tr>\n",
       "      <th>1</th>\n",
       "      <td>Kwaku</td>\n",
       "      <td>87</td>\n",
       "      <td>Male</td>\n",
       "      <td>43.5</td>\n",
       "    </tr>\n",
       "    <tr>\n",
       "      <th>2</th>\n",
       "      <td>Ana</td>\n",
       "      <td>56</td>\n",
       "      <td>Female</td>\n",
       "      <td>28.0</td>\n",
       "    </tr>\n",
       "    <tr>\n",
       "      <th>3</th>\n",
       "      <td>Desmond</td>\n",
       "      <td>67</td>\n",
       "      <td>Male</td>\n",
       "      <td>33.5</td>\n",
       "    </tr>\n",
       "    <tr>\n",
       "      <th>4</th>\n",
       "      <td>Darpoh</td>\n",
       "      <td>78</td>\n",
       "      <td>Male</td>\n",
       "      <td>39.0</td>\n",
       "    </tr>\n",
       "    <tr>\n",
       "      <th>5</th>\n",
       "      <td>Joan</td>\n",
       "      <td>99</td>\n",
       "      <td>Female</td>\n",
       "      <td>49.5</td>\n",
       "    </tr>\n",
       "    <tr>\n",
       "      <th>6</th>\n",
       "      <td>Nate</td>\n",
       "      <td>90</td>\n",
       "      <td>Male</td>\n",
       "      <td>45.0</td>\n",
       "    </tr>\n",
       "  </tbody>\n",
       "</table>\n",
       "</div>"
      ],
      "text/plain": [
       "     Names  Marks  Gender  Half_Marks\n",
       "0     Esmi     76  Female        38.0\n",
       "1    Kwaku     87    Male        43.5\n",
       "2      Ana     56  Female        28.0\n",
       "3  Desmond     67    Male        33.5\n",
       "4   Darpoh     78    Male        39.0\n",
       "5     Joan     99  Female        49.5\n",
       "6     Nate     90    Male        45.0"
      ]
     },
     "execution_count": 145,
     "metadata": {},
     "output_type": "execute_result"
    }
   ],
   "source": [
    "# Here we wish to delete or drop a coloumn  note- specify axis\n",
    "df1.drop('Gender_2',axis=1)"
   ]
  },
  {
   "cell_type": "markdown",
   "id": "af87f887-35fb-4b39-9070-fcddacb22085",
   "metadata": {},
   "source": [
    "# Dropping multiple columns"
   ]
  },
  {
   "cell_type": "code",
   "execution_count": 153,
   "id": "eab5c962-571e-42c4-8a57-a9e250f45072",
   "metadata": {},
   "outputs": [
    {
     "data": {
      "text/html": [
       "<div>\n",
       "<style scoped>\n",
       "    .dataframe tbody tr th:only-of-type {\n",
       "        vertical-align: middle;\n",
       "    }\n",
       "\n",
       "    .dataframe tbody tr th {\n",
       "        vertical-align: top;\n",
       "    }\n",
       "\n",
       "    .dataframe thead th {\n",
       "        text-align: right;\n",
       "    }\n",
       "</style>\n",
       "<table border=\"1\" class=\"dataframe\">\n",
       "  <thead>\n",
       "    <tr style=\"text-align: right;\">\n",
       "      <th></th>\n",
       "      <th>Names</th>\n",
       "      <th>Marks</th>\n",
       "      <th>Gender_2</th>\n",
       "    </tr>\n",
       "  </thead>\n",
       "  <tbody>\n",
       "    <tr>\n",
       "      <th>0</th>\n",
       "      <td>Esmi</td>\n",
       "      <td>76</td>\n",
       "      <td>0</td>\n",
       "    </tr>\n",
       "    <tr>\n",
       "      <th>1</th>\n",
       "      <td>Kwaku</td>\n",
       "      <td>87</td>\n",
       "      <td>1</td>\n",
       "    </tr>\n",
       "    <tr>\n",
       "      <th>2</th>\n",
       "      <td>Ana</td>\n",
       "      <td>56</td>\n",
       "      <td>0</td>\n",
       "    </tr>\n",
       "    <tr>\n",
       "      <th>3</th>\n",
       "      <td>Desmond</td>\n",
       "      <td>67</td>\n",
       "      <td>1</td>\n",
       "    </tr>\n",
       "    <tr>\n",
       "      <th>4</th>\n",
       "      <td>Darpoh</td>\n",
       "      <td>78</td>\n",
       "      <td>1</td>\n",
       "    </tr>\n",
       "    <tr>\n",
       "      <th>5</th>\n",
       "      <td>Joan</td>\n",
       "      <td>99</td>\n",
       "      <td>0</td>\n",
       "    </tr>\n",
       "    <tr>\n",
       "      <th>6</th>\n",
       "      <td>Nate</td>\n",
       "      <td>90</td>\n",
       "      <td>1</td>\n",
       "    </tr>\n",
       "  </tbody>\n",
       "</table>\n",
       "</div>"
      ],
      "text/plain": [
       "     Names  Marks  Gender_2\n",
       "0     Esmi     76         0\n",
       "1    Kwaku     87         1\n",
       "2      Ana     56         0\n",
       "3  Desmond     67         1\n",
       "4   Darpoh     78         1\n",
       "5     Joan     99         0\n",
       "6     Nate     90         1"
      ]
     },
     "execution_count": 153,
     "metadata": {},
     "output_type": "execute_result"
    }
   ],
   "source": [
    "\n",
    "df1.drop(['Gender','Half_Marks'],axis=1)"
   ]
  },
  {
   "cell_type": "markdown",
   "id": "37b4d16d-6926-4919-bace-7bb3d782bd29",
   "metadata": {},
   "source": [
    "# Name of colums"
   ]
  },
  {
   "cell_type": "code",
   "execution_count": 156,
   "id": "6b753eb0-d1f7-44e4-bcd5-e051be8363ff",
   "metadata": {},
   "outputs": [
    {
     "data": {
      "text/plain": [
       "Index(['Names', 'Marks', 'Gender', 'Half_Marks', 'Gender_2'], dtype='object')"
      ]
     },
     "execution_count": 156,
     "metadata": {},
     "output_type": "execute_result"
    }
   ],
   "source": [
    "df1.columns"
   ]
  },
  {
   "cell_type": "code",
   "execution_count": 158,
   "id": "143a808a-7913-41ef-881f-9ebf2e9d364d",
   "metadata": {},
   "outputs": [
    {
     "data": {
      "text/plain": [
       "RangeIndex(start=0, stop=7, step=1)"
      ]
     },
     "execution_count": 158,
     "metadata": {},
     "output_type": "execute_result"
    }
   ],
   "source": [
    "df1.index"
   ]
  },
  {
   "cell_type": "markdown",
   "id": "3f6ee510-4924-437b-905c-382142662633",
   "metadata": {},
   "source": [
    "# sort the DataFrame as per the marks column"
   ]
  },
  {
   "cell_type": "code",
   "execution_count": 161,
   "id": "7ae12adb-d2de-46a2-9f2a-1e1c602fafb7",
   "metadata": {},
   "outputs": [
    {
     "data": {
      "text/html": [
       "<div>\n",
       "<style scoped>\n",
       "    .dataframe tbody tr th:only-of-type {\n",
       "        vertical-align: middle;\n",
       "    }\n",
       "\n",
       "    .dataframe tbody tr th {\n",
       "        vertical-align: top;\n",
       "    }\n",
       "\n",
       "    .dataframe thead th {\n",
       "        text-align: right;\n",
       "    }\n",
       "</style>\n",
       "<table border=\"1\" class=\"dataframe\">\n",
       "  <thead>\n",
       "    <tr style=\"text-align: right;\">\n",
       "      <th></th>\n",
       "      <th>Names</th>\n",
       "      <th>Marks</th>\n",
       "      <th>Gender</th>\n",
       "      <th>Half_Marks</th>\n",
       "      <th>Gender_2</th>\n",
       "    </tr>\n",
       "  </thead>\n",
       "  <tbody>\n",
       "    <tr>\n",
       "      <th>2</th>\n",
       "      <td>Ana</td>\n",
       "      <td>56</td>\n",
       "      <td>Female</td>\n",
       "      <td>28.0</td>\n",
       "      <td>0</td>\n",
       "    </tr>\n",
       "    <tr>\n",
       "      <th>3</th>\n",
       "      <td>Desmond</td>\n",
       "      <td>67</td>\n",
       "      <td>Male</td>\n",
       "      <td>33.5</td>\n",
       "      <td>1</td>\n",
       "    </tr>\n",
       "    <tr>\n",
       "      <th>0</th>\n",
       "      <td>Esmi</td>\n",
       "      <td>76</td>\n",
       "      <td>Female</td>\n",
       "      <td>38.0</td>\n",
       "      <td>0</td>\n",
       "    </tr>\n",
       "    <tr>\n",
       "      <th>4</th>\n",
       "      <td>Darpoh</td>\n",
       "      <td>78</td>\n",
       "      <td>Male</td>\n",
       "      <td>39.0</td>\n",
       "      <td>1</td>\n",
       "    </tr>\n",
       "    <tr>\n",
       "      <th>1</th>\n",
       "      <td>Kwaku</td>\n",
       "      <td>87</td>\n",
       "      <td>Male</td>\n",
       "      <td>43.5</td>\n",
       "      <td>1</td>\n",
       "    </tr>\n",
       "    <tr>\n",
       "      <th>6</th>\n",
       "      <td>Nate</td>\n",
       "      <td>90</td>\n",
       "      <td>Male</td>\n",
       "      <td>45.0</td>\n",
       "      <td>1</td>\n",
       "    </tr>\n",
       "    <tr>\n",
       "      <th>5</th>\n",
       "      <td>Joan</td>\n",
       "      <td>99</td>\n",
       "      <td>Female</td>\n",
       "      <td>49.5</td>\n",
       "      <td>0</td>\n",
       "    </tr>\n",
       "  </tbody>\n",
       "</table>\n",
       "</div>"
      ],
      "text/plain": [
       "     Names  Marks  Gender  Half_Marks  Gender_2\n",
       "2      Ana     56  Female        28.0         0\n",
       "3  Desmond     67    Male        33.5         1\n",
       "0     Esmi     76  Female        38.0         0\n",
       "4   Darpoh     78    Male        39.0         1\n",
       "1    Kwaku     87    Male        43.5         1\n",
       "6     Nate     90    Male        45.0         1\n",
       "5     Joan     99  Female        49.5         0"
      ]
     },
     "execution_count": 161,
     "metadata": {},
     "output_type": "execute_result"
    }
   ],
   "source": [
    "df1.sort_values(by='Marks')"
   ]
  },
  {
   "cell_type": "code",
   "execution_count": 165,
   "id": "9f1fc786-43aa-48d2-a03a-2294c3a75e8d",
   "metadata": {},
   "outputs": [
    {
     "data": {
      "text/html": [
       "<div>\n",
       "<style scoped>\n",
       "    .dataframe tbody tr th:only-of-type {\n",
       "        vertical-align: middle;\n",
       "    }\n",
       "\n",
       "    .dataframe tbody tr th {\n",
       "        vertical-align: top;\n",
       "    }\n",
       "\n",
       "    .dataframe thead th {\n",
       "        text-align: right;\n",
       "    }\n",
       "</style>\n",
       "<table border=\"1\" class=\"dataframe\">\n",
       "  <thead>\n",
       "    <tr style=\"text-align: right;\">\n",
       "      <th></th>\n",
       "      <th>Names</th>\n",
       "      <th>Marks</th>\n",
       "      <th>Gender</th>\n",
       "      <th>Half_Marks</th>\n",
       "      <th>Gender_2</th>\n",
       "    </tr>\n",
       "  </thead>\n",
       "  <tbody>\n",
       "    <tr>\n",
       "      <th>5</th>\n",
       "      <td>Joan</td>\n",
       "      <td>99</td>\n",
       "      <td>Female</td>\n",
       "      <td>49.5</td>\n",
       "      <td>0</td>\n",
       "    </tr>\n",
       "    <tr>\n",
       "      <th>6</th>\n",
       "      <td>Nate</td>\n",
       "      <td>90</td>\n",
       "      <td>Male</td>\n",
       "      <td>45.0</td>\n",
       "      <td>1</td>\n",
       "    </tr>\n",
       "    <tr>\n",
       "      <th>1</th>\n",
       "      <td>Kwaku</td>\n",
       "      <td>87</td>\n",
       "      <td>Male</td>\n",
       "      <td>43.5</td>\n",
       "      <td>1</td>\n",
       "    </tr>\n",
       "    <tr>\n",
       "      <th>4</th>\n",
       "      <td>Darpoh</td>\n",
       "      <td>78</td>\n",
       "      <td>Male</td>\n",
       "      <td>39.0</td>\n",
       "      <td>1</td>\n",
       "    </tr>\n",
       "    <tr>\n",
       "      <th>0</th>\n",
       "      <td>Esmi</td>\n",
       "      <td>76</td>\n",
       "      <td>Female</td>\n",
       "      <td>38.0</td>\n",
       "      <td>0</td>\n",
       "    </tr>\n",
       "    <tr>\n",
       "      <th>3</th>\n",
       "      <td>Desmond</td>\n",
       "      <td>67</td>\n",
       "      <td>Male</td>\n",
       "      <td>33.5</td>\n",
       "      <td>1</td>\n",
       "    </tr>\n",
       "    <tr>\n",
       "      <th>2</th>\n",
       "      <td>Ana</td>\n",
       "      <td>56</td>\n",
       "      <td>Female</td>\n",
       "      <td>28.0</td>\n",
       "      <td>0</td>\n",
       "    </tr>\n",
       "  </tbody>\n",
       "</table>\n",
       "</div>"
      ],
      "text/plain": [
       "     Names  Marks  Gender  Half_Marks  Gender_2\n",
       "5     Joan     99  Female        49.5         0\n",
       "6     Nate     90    Male        45.0         1\n",
       "1    Kwaku     87    Male        43.5         1\n",
       "4   Darpoh     78    Male        39.0         1\n",
       "0     Esmi     76  Female        38.0         0\n",
       "3  Desmond     67    Male        33.5         1\n",
       "2      Ana     56  Female        28.0         0"
      ]
     },
     "execution_count": 165,
     "metadata": {},
     "output_type": "execute_result"
    }
   ],
   "source": [
    "# in asc or desc\n",
    "df1.sort_values(by='Marks',ascending = False )"
   ]
  },
  {
   "cell_type": "code",
   "execution_count": 167,
   "id": "88ddd120-910f-441c-bd71-9d1d805bb143",
   "metadata": {},
   "outputs": [
    {
     "data": {
      "text/html": [
       "<div>\n",
       "<style scoped>\n",
       "    .dataframe tbody tr th:only-of-type {\n",
       "        vertical-align: middle;\n",
       "    }\n",
       "\n",
       "    .dataframe tbody tr th {\n",
       "        vertical-align: top;\n",
       "    }\n",
       "\n",
       "    .dataframe thead th {\n",
       "        text-align: right;\n",
       "    }\n",
       "</style>\n",
       "<table border=\"1\" class=\"dataframe\">\n",
       "  <thead>\n",
       "    <tr style=\"text-align: right;\">\n",
       "      <th></th>\n",
       "      <th>Names</th>\n",
       "      <th>Marks</th>\n",
       "      <th>Gender</th>\n",
       "      <th>Half_Marks</th>\n",
       "      <th>Gender_2</th>\n",
       "    </tr>\n",
       "  </thead>\n",
       "  <tbody>\n",
       "    <tr>\n",
       "      <th>5</th>\n",
       "      <td>Joan</td>\n",
       "      <td>99</td>\n",
       "      <td>Female</td>\n",
       "      <td>49.5</td>\n",
       "      <td>0</td>\n",
       "    </tr>\n",
       "    <tr>\n",
       "      <th>6</th>\n",
       "      <td>Nate</td>\n",
       "      <td>90</td>\n",
       "      <td>Male</td>\n",
       "      <td>45.0</td>\n",
       "      <td>1</td>\n",
       "    </tr>\n",
       "    <tr>\n",
       "      <th>1</th>\n",
       "      <td>Kwaku</td>\n",
       "      <td>87</td>\n",
       "      <td>Male</td>\n",
       "      <td>43.5</td>\n",
       "      <td>1</td>\n",
       "    </tr>\n",
       "    <tr>\n",
       "      <th>4</th>\n",
       "      <td>Darpoh</td>\n",
       "      <td>78</td>\n",
       "      <td>Male</td>\n",
       "      <td>39.0</td>\n",
       "      <td>1</td>\n",
       "    </tr>\n",
       "    <tr>\n",
       "      <th>0</th>\n",
       "      <td>Esmi</td>\n",
       "      <td>76</td>\n",
       "      <td>Female</td>\n",
       "      <td>38.0</td>\n",
       "      <td>0</td>\n",
       "    </tr>\n",
       "    <tr>\n",
       "      <th>3</th>\n",
       "      <td>Desmond</td>\n",
       "      <td>67</td>\n",
       "      <td>Male</td>\n",
       "      <td>33.5</td>\n",
       "      <td>1</td>\n",
       "    </tr>\n",
       "    <tr>\n",
       "      <th>2</th>\n",
       "      <td>Ana</td>\n",
       "      <td>56</td>\n",
       "      <td>Female</td>\n",
       "      <td>28.0</td>\n",
       "      <td>0</td>\n",
       "    </tr>\n",
       "  </tbody>\n",
       "</table>\n",
       "</div>"
      ],
      "text/plain": [
       "     Names  Marks  Gender  Half_Marks  Gender_2\n",
       "5     Joan     99  Female        49.5         0\n",
       "6     Nate     90    Male        45.0         1\n",
       "1    Kwaku     87    Male        43.5         1\n",
       "4   Darpoh     78    Male        39.0         1\n",
       "0     Esmi     76  Female        38.0         0\n",
       "3  Desmond     67    Male        33.5         1\n",
       "2      Ana     56  Female        28.0         0"
      ]
     },
     "execution_count": 167,
     "metadata": {},
     "output_type": "execute_result"
    }
   ],
   "source": [
    "# We can also use multiple columns for sorting\n",
    "\n",
    "df1.sort_values(by=['Marks','Half_Marks'],ascending = False )"
   ]
  },
  {
   "cell_type": "markdown",
   "id": "c15d8e62-c08b-46ec-9cf2-081bb5e80d70",
   "metadata": {},
   "source": [
    "# Display Name and Marks of Female Students only\n"
   ]
  },
  {
   "cell_type": "code",
   "execution_count": null,
   "id": "c088c4f1-08db-4784-9faa-bbd0e2956285",
   "metadata": {},
   "outputs": [],
   "source": []
  },
  {
   "cell_type": "markdown",
   "id": "a78226e7-f03c-4f07-8c41-ead1bc0255eb",
   "metadata": {},
   "source": [
    "# Connecting to sql database"
   ]
  },
  {
   "cell_type": "code",
   "execution_count": null,
   "id": "e413598b-0b0b-49ce-b51b-e1ce14dd6747",
   "metadata": {},
   "outputs": [],
   "source": [
    "engine = sqlach"
   ]
  }
 ],
 "metadata": {
  "kernelspec": {
   "display_name": "Python 3 (ipykernel)",
   "language": "python",
   "name": "python3"
  },
  "language_info": {
   "codemirror_mode": {
    "name": "ipython",
    "version": 3
   },
   "file_extension": ".py",
   "mimetype": "text/x-python",
   "name": "python",
   "nbconvert_exporter": "python",
   "pygments_lexer": "ipython3",
   "version": "3.12.4"
  }
 },
 "nbformat": 4,
 "nbformat_minor": 5
}

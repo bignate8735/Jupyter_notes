{
 "cells": [
  {
   "cell_type": "code",
   "execution_count": 1,
   "id": "4fedb2a2-c2a2-4bf6-b7ca-b9d055bcdbf1",
   "metadata": {},
   "outputs": [],
   "source": [
    "import numpy as np\n"
   ]
  },
  {
   "cell_type": "code",
   "execution_count": 5,
   "id": "eebba549-383a-452c-93c7-790478876f94",
   "metadata": {},
   "outputs": [],
   "source": [
    "#Here we want to show why a numpy array and fast and better than a list\n",
    "my_arr = np.arange(1000000)\n"
   ]
  },
  {
   "cell_type": "code",
   "execution_count": 236,
   "id": "484c84f9-20cc-49b9-b15d-be8e8abdeca4",
   "metadata": {},
   "outputs": [],
   "source": [
    "my_list = list(range(1000000))"
   ]
  },
  {
   "cell_type": "code",
   "execution_count": 238,
   "id": "9611ad78-dd36-4485-a794-6850673a8315",
   "metadata": {},
   "outputs": [
    {
     "name": "stdout",
     "output_type": "stream",
     "text": [
      "CPU times: user 108 μs, sys: 2.16 ms, total: 2.27 ms\n",
      "Wall time: 3.39 ms\n"
     ]
    }
   ],
   "source": [
    " %time for _ in range(10): my_arr2 = my_arr * 2"
   ]
  },
  {
   "cell_type": "code",
   "execution_count": 240,
   "id": "b7dd8d00-2445-4879-a693-04b934000280",
   "metadata": {},
   "outputs": [
    {
     "name": "stdout",
     "output_type": "stream",
     "text": [
      "CPU times: user 230 ms, sys: 66.2 ms, total: 296 ms\n",
      "Wall time: 301 ms\n"
     ]
    }
   ],
   "source": [
    "%time for _ in range(10):my_list2 = [x*2 for x in my_list]"
   ]
  },
  {
   "cell_type": "code",
   "execution_count": 242,
   "id": "9b243012-7fcc-43ec-ad22-55329f4c8fdc",
   "metadata": {},
   "outputs": [],
   "source": [
    "# how to make an array\n",
    "data1 = np.array([1, 2, 3, 4 ,5 ])"
   ]
  },
  {
   "cell_type": "code",
   "execution_count": 244,
   "id": "051f0204-da01-44dc-8ca1-86825b3f990e",
   "metadata": {},
   "outputs": [],
   "source": [
    "# other way\n",
    "data2 = [2 ,4, 5, 6]\n",
    "arr2 = np.array(data2)"
   ]
  },
  {
   "cell_type": "code",
   "execution_count": 25,
   "id": "ace6e7dd-d401-48c5-b2fa-60f603c2edbb",
   "metadata": {},
   "outputs": [
    {
     "name": "stdout",
     "output_type": "stream",
     "text": [
      "[1 2 3 4 5]\n"
     ]
    }
   ],
   "source": [
    "print(data1)"
   ]
  },
  {
   "cell_type": "code",
   "execution_count": 27,
   "id": "3c3e0cab-3adc-4e7a-b0dd-7f4ff59a082b",
   "metadata": {},
   "outputs": [
    {
     "name": "stdout",
     "output_type": "stream",
     "text": [
      "[2 4 5 6]\n"
     ]
    }
   ],
   "source": [
    "print(arr2)"
   ]
  },
  {
   "cell_type": "code",
   "execution_count": 29,
   "id": "ca82ed5b-1cae-4af5-a65e-3093d9754ecd",
   "metadata": {},
   "outputs": [
    {
     "data": {
      "text/plain": [
       "1"
      ]
     },
     "execution_count": 29,
     "metadata": {},
     "output_type": "execute_result"
    }
   ],
   "source": [
    "#How to check the following of an array\n",
    "# dimension \n",
    "data1.ndim"
   ]
  },
  {
   "cell_type": "code",
   "execution_count": 31,
   "id": "d4bc9f1c-59fb-4077-91b0-fd1a669e65aa",
   "metadata": {},
   "outputs": [
    {
     "data": {
      "text/plain": [
       "dtype('int64')"
      ]
     },
     "execution_count": 31,
     "metadata": {},
     "output_type": "execute_result"
    }
   ],
   "source": [
    "#How to check the data type\n",
    "data1.dtype"
   ]
  },
  {
   "cell_type": "code",
   "execution_count": 33,
   "id": "acfd86d6-0d2f-4981-94e7-0a0a1f221b07",
   "metadata": {},
   "outputs": [
    {
     "data": {
      "text/plain": [
       "(5,)"
      ]
     },
     "execution_count": 33,
     "metadata": {},
     "output_type": "execute_result"
    }
   ],
   "source": [
    "#how to check the shape of the array\n",
    "data1.shape\n"
   ]
  },
  {
   "cell_type": "code",
   "execution_count": 48,
   "id": "a533d145-92aa-4303-a097-98f38a7833ac",
   "metadata": {},
   "outputs": [],
   "source": [
    "#Nested sequences\n",
    "data3 =[[1, 2, 3, 4],[5, 6, 7, 8]]\n",
    "arr3 = np.array(data3)\n"
   ]
  },
  {
   "cell_type": "code",
   "execution_count": 52,
   "id": "c1b9f463-de78-4b39-8335-919eb0cee896",
   "metadata": {},
   "outputs": [
    {
     "name": "stdout",
     "output_type": "stream",
     "text": [
      "[[1 2 3 4]\n",
      " [5 6 7 8]]\n"
     ]
    }
   ],
   "source": [
    "print(arr3)"
   ]
  },
  {
   "cell_type": "code",
   "execution_count": 62,
   "id": "97548483-00a5-4151-bf0e-e1b9c85a74c8",
   "metadata": {},
   "outputs": [
    {
     "data": {
      "text/plain": [
       "dtype('int64')"
      ]
     },
     "execution_count": 62,
     "metadata": {},
     "output_type": "execute_result"
    }
   ],
   "source": [
    "arr3.dtype\n",
    "\n"
   ]
  },
  {
   "cell_type": "code",
   "execution_count": 60,
   "id": "01edd647-c434-4aa8-bce2-8c64bf72afb7",
   "metadata": {},
   "outputs": [
    {
     "data": {
      "text/plain": [
       "(2, 4)"
      ]
     },
     "execution_count": 60,
     "metadata": {},
     "output_type": "execute_result"
    }
   ],
   "source": [
    "arr3.shape"
   ]
  },
  {
   "cell_type": "code",
   "execution_count": null,
   "id": "f35828e4-376d-4f21-b042-6c0d4c352ad6",
   "metadata": {},
   "outputs": [],
   "source": [
    "#Other functions to create arrays zeros and ones and empty e"
   ]
  },
  {
   "cell_type": "code",
   "execution_count": 74,
   "id": "3652637b-4cb7-41fd-bd23-d6a765cc6446",
   "metadata": {},
   "outputs": [
    {
     "data": {
      "text/plain": [
       "array([[0., 0., 0.],\n",
       "       [0., 0., 0.],\n",
       "       [0., 0., 0.]])"
      ]
     },
     "execution_count": 74,
     "metadata": {},
     "output_type": "execute_result"
    }
   ],
   "source": [
    "\n",
    "np.zeros((3,3))"
   ]
  },
  {
   "cell_type": "code",
   "execution_count": 86,
   "id": "730408a7-3ebd-4b3b-a3b3-ff303acde97f",
   "metadata": {},
   "outputs": [
    {
     "data": {
      "text/plain": [
       "array([[1., 1., 1., 1., 1.],\n",
       "       [1., 1., 1., 1., 1.],\n",
       "       [1., 1., 1., 1., 1.]])"
      ]
     },
     "execution_count": 86,
     "metadata": {},
     "output_type": "execute_result"
    }
   ],
   "source": [
    "np.ones((3,5))"
   ]
  },
  {
   "cell_type": "code",
   "execution_count": 76,
   "id": "12878582-352d-462f-83cb-f7b872c028b7",
   "metadata": {},
   "outputs": [
    {
     "data": {
      "text/plain": [
       "array([[0., 0.],\n",
       "       [0., 0.]])"
      ]
     },
     "execution_count": 76,
     "metadata": {},
     "output_type": "execute_result"
    }
   ],
   "source": [
    "np.empty((2,2))"
   ]
  },
  {
   "cell_type": "code",
   "execution_count": 80,
   "id": "939030a5-7401-4f2f-a74a-5b74054d135e",
   "metadata": {},
   "outputs": [
    {
     "data": {
      "text/plain": [
       "array([ 0,  1,  2,  3,  4,  5,  6,  7,  8,  9, 10, 11, 12, 13, 14])"
      ]
     },
     "execution_count": 80,
     "metadata": {},
     "output_type": "execute_result"
    }
   ],
   "source": [
    "# arange is an array-valued version of the built in python range function\n",
    "np.arange(15)"
   ]
  },
  {
   "cell_type": "code",
   "execution_count": 88,
   "id": "4050b8a2-bfa3-4fa6-9d93-daa24fa79d53",
   "metadata": {},
   "outputs": [],
   "source": [
    "# noteby difault the data type for numpy array creations is \"float64\"\n"
   ]
  },
  {
   "cell_type": "code",
   "execution_count": 90,
   "id": "8f972667-7ea3-41af-8c4d-06c22e4ee64b",
   "metadata": {},
   "outputs": [],
   "source": [
    "# To convert an array from one dtype to another using \"astype\"\n",
    "arr = np.array([1, 2, 3, 4]) "
   ]
  },
  {
   "cell_type": "code",
   "execution_count": 92,
   "id": "d742c6ce-da47-44bd-bd3c-14c85be61b2c",
   "metadata": {},
   "outputs": [
    {
     "data": {
      "text/plain": [
       "dtype('int64')"
      ]
     },
     "execution_count": 92,
     "metadata": {},
     "output_type": "execute_result"
    }
   ],
   "source": [
    "arr.dtype"
   ]
  },
  {
   "cell_type": "code",
   "execution_count": 94,
   "id": "803c6d42-66f8-42d4-9b69-5423c2bbd539",
   "metadata": {},
   "outputs": [],
   "source": [
    "float_arr = arr.astype(np.float64)"
   ]
  },
  {
   "cell_type": "code",
   "execution_count": 98,
   "id": "b23c2290-c7c3-4219-8d82-e7a75986aa83",
   "metadata": {},
   "outputs": [
    {
     "data": {
      "text/plain": [
       "dtype('float64')"
      ]
     },
     "execution_count": 98,
     "metadata": {},
     "output_type": "execute_result"
    }
   ],
   "source": [
    "float_arr.dtype"
   ]
  },
  {
   "cell_type": "code",
   "execution_count": 100,
   "id": "b648e47c-af20-433f-92ac-122628b1929a",
   "metadata": {},
   "outputs": [],
   "source": [
    "# in the above example integers were cast as floating point\n"
   ]
  },
  {
   "cell_type": "code",
   "execution_count": 108,
   "id": "29b96504-1b02-4194-aeba-61d419bb993a",
   "metadata": {},
   "outputs": [],
   "source": [
    "my_arr = np.array([2.6, 3.4, -4.3, 5.9, 6.8])\n",
    "                  "
   ]
  },
  {
   "cell_type": "code",
   "execution_count": 110,
   "id": "1d6021e6-2c9b-4de4-a017-b1e3ede17dee",
   "metadata": {},
   "outputs": [
    {
     "data": {
      "text/plain": [
       "dtype('float64')"
      ]
     },
     "execution_count": 110,
     "metadata": {},
     "output_type": "execute_result"
    }
   ],
   "source": [
    "my_arr.dtype"
   ]
  },
  {
   "cell_type": "code",
   "execution_count": 120,
   "id": "e5aa5d21-c18a-4d72-a1b8-4a2abda7884f",
   "metadata": {},
   "outputs": [
    {
     "data": {
      "text/plain": [
       "array([ 2,  3, -4,  5,  6])"
      ]
     },
     "execution_count": 120,
     "metadata": {},
     "output_type": "execute_result"
    }
   ],
   "source": [
    "my_arr_int = my_arr.astype(np.int64)\n",
    "my_arr_int"
   ]
  },
  {
   "cell_type": "code",
   "execution_count": 122,
   "id": "3332961f-edc5-4611-a55c-faaa3dd2204c",
   "metadata": {},
   "outputs": [
    {
     "data": {
      "text/plain": [
       "dtype('int64')"
      ]
     },
     "execution_count": 122,
     "metadata": {},
     "output_type": "execute_result"
    }
   ],
   "source": [
    "my_arr_int.dtype"
   ]
  },
  {
   "cell_type": "code",
   "execution_count": 126,
   "id": "3d636711-8368-42e6-a7f1-f44dda7ed87c",
   "metadata": {},
   "outputs": [
    {
     "data": {
      "text/plain": [
       "array([b'2', b'3', b'-4', b'5', b'6'], dtype='|S21')"
      ]
     },
     "execution_count": 126,
     "metadata": {},
     "output_type": "execute_result"
    }
   ],
   "source": [
    "# to covert array to strings\n",
    "my_arr_strings = my_arr_int.astype(np.string_)\n",
    "my_arr_strings"
   ]
  },
  {
   "cell_type": "code",
   "execution_count": 130,
   "id": "33411488-3e10-4ca7-83a5-6f55c50a74ea",
   "metadata": {},
   "outputs": [
    {
     "data": {
      "text/plain": [
       "dtype('S21')"
      ]
     },
     "execution_count": 130,
     "metadata": {},
     "output_type": "execute_result"
    }
   ],
   "source": [
    "my_arr_strings.dtype"
   ]
  },
  {
   "cell_type": "code",
   "execution_count": 132,
   "id": "e15ad3a6-88ed-496a-9d6b-4b313a2bf1a9",
   "metadata": {},
   "outputs": [],
   "source": [
    "#arithmaetic with NumPy arrays"
   ]
  },
  {
   "cell_type": "code",
   "execution_count": 138,
   "id": "7355705d-91e5-4f3f-9eb8-835edaf4a489",
   "metadata": {},
   "outputs": [],
   "source": [
    "arr4 = np.array([[1., 2., 3.], [4., 5., 6.,]])"
   ]
  },
  {
   "cell_type": "code",
   "execution_count": 141,
   "id": "e22bc30e-a96e-4562-862e-3ba89b5efeda",
   "metadata": {},
   "outputs": [
    {
     "data": {
      "text/plain": [
       "array([[1., 2., 3.],\n",
       "       [4., 5., 6.]])"
      ]
     },
     "execution_count": 141,
     "metadata": {},
     "output_type": "execute_result"
    }
   ],
   "source": [
    "arr4"
   ]
  },
  {
   "cell_type": "code",
   "execution_count": 143,
   "id": "abbe54a7-0739-4dd2-9dd1-7b73be057e0c",
   "metadata": {},
   "outputs": [
    {
     "data": {
      "text/plain": [
       "array([[ 1.,  4.,  9.],\n",
       "       [16., 25., 36.]])"
      ]
     },
     "execution_count": 143,
     "metadata": {},
     "output_type": "execute_result"
    }
   ],
   "source": [
    "arr4 * arr4"
   ]
  },
  {
   "cell_type": "code",
   "execution_count": 145,
   "id": "6a7f0a59-f074-4486-afd5-90d106cb0fac",
   "metadata": {},
   "outputs": [
    {
     "data": {
      "text/plain": [
       "array([[ 2.,  4.,  6.],\n",
       "       [ 8., 10., 12.]])"
      ]
     },
     "execution_count": 145,
     "metadata": {},
     "output_type": "execute_result"
    }
   ],
   "source": [
    "arr4 + arr4"
   ]
  },
  {
   "cell_type": "code",
   "execution_count": 147,
   "id": "94595311-3a53-4908-9e70-ccff92211ee3",
   "metadata": {},
   "outputs": [
    {
     "data": {
      "text/plain": [
       "array([[0., 0., 0.],\n",
       "       [0., 0., 0.]])"
      ]
     },
     "execution_count": 147,
     "metadata": {},
     "output_type": "execute_result"
    }
   ],
   "source": [
    "arr4 - arr4"
   ]
  },
  {
   "cell_type": "code",
   "execution_count": 149,
   "id": "414dc9af-bf5c-44c0-a018-6fef994e19a3",
   "metadata": {},
   "outputs": [
    {
     "data": {
      "text/plain": [
       "array([[1.        , 0.5       , 0.33333333],\n",
       "       [0.25      , 0.2       , 0.16666667]])"
      ]
     },
     "execution_count": 149,
     "metadata": {},
     "output_type": "execute_result"
    }
   ],
   "source": [
    "1/arr4"
   ]
  },
  {
   "cell_type": "code",
   "execution_count": 151,
   "id": "63a0ce8b-b60b-4d7d-ae8b-99ff8cd04118",
   "metadata": {},
   "outputs": [
    {
     "data": {
      "text/plain": [
       "array([[1.        , 1.41421356, 1.73205081],\n",
       "       [2.        , 2.23606798, 2.44948974]])"
      ]
     },
     "execution_count": 151,
     "metadata": {},
     "output_type": "execute_result"
    }
   ],
   "source": [
    "arr4**0.5"
   ]
  },
  {
   "cell_type": "code",
   "execution_count": 153,
   "id": "48905d1f-2bad-48b1-940b-ff84cc6f5312",
   "metadata": {},
   "outputs": [
    {
     "data": {
      "text/plain": [
       "dtype('float64')"
      ]
     },
     "execution_count": 153,
     "metadata": {},
     "output_type": "execute_result"
    }
   ],
   "source": [
    "arr4.dtype"
   ]
  },
  {
   "cell_type": "code",
   "execution_count": 163,
   "id": "b47ef3b0-635e-478d-96e9-12079907f703",
   "metadata": {},
   "outputs": [
    {
     "data": {
      "text/plain": [
       "array([[ 0.,  4.,  1.],\n",
       "       [ 7.,  2., 12.]])"
      ]
     },
     "execution_count": 163,
     "metadata": {},
     "output_type": "execute_result"
    }
   ],
   "source": [
    "arr5 = np.array([[0., 4., 1.,], [7., 2., 12.]])\n",
    "arr5\n",
    "                 "
   ]
  },
  {
   "cell_type": "code",
   "execution_count": 161,
   "id": "428c4c51-f58c-4577-9895-57ca2a73cd5c",
   "metadata": {},
   "outputs": [
    {
     "data": {
      "text/plain": [
       "array([[ True, False,  True],\n",
       "       [False,  True, False]])"
      ]
     },
     "execution_count": 161,
     "metadata": {},
     "output_type": "execute_result"
    }
   ],
   "source": [
    "arr4 > arr5"
   ]
  },
  {
   "cell_type": "code",
   "execution_count": 165,
   "id": "66fd7291-54a0-4008-84d8-8ac07391c9fa",
   "metadata": {},
   "outputs": [],
   "source": [
    "#Basic indexing and slicing\n"
   ]
  },
  {
   "cell_type": "code",
   "execution_count": 177,
   "id": "96e74b09-cc59-4b7f-a4e8-107006a90840",
   "metadata": {},
   "outputs": [
    {
     "data": {
      "text/plain": [
       "array([0, 1, 2, 3, 4, 5, 6, 7, 8, 9])"
      ]
     },
     "execution_count": 177,
     "metadata": {},
     "output_type": "execute_result"
    }
   ],
   "source": [
    "arr6 = np.arange(10)\n",
    "arr6"
   ]
  },
  {
   "cell_type": "code",
   "execution_count": 179,
   "id": "51c5ef74-e8d1-42b0-a820-408c630c5cf2",
   "metadata": {},
   "outputs": [
    {
     "data": {
      "text/plain": [
       "5"
      ]
     },
     "execution_count": 179,
     "metadata": {},
     "output_type": "execute_result"
    }
   ],
   "source": [
    "arr6[5]"
   ]
  },
  {
   "cell_type": "code",
   "execution_count": 183,
   "id": "86f6a632-fa3d-4ab4-9803-b4bf0179c4d4",
   "metadata": {},
   "outputs": [
    {
     "data": {
      "text/plain": [
       "array([3, 4, 5, 6])"
      ]
     },
     "execution_count": 183,
     "metadata": {},
     "output_type": "execute_result"
    }
   ],
   "source": [
    "arr6[3:7]"
   ]
  },
  {
   "cell_type": "code",
   "execution_count": 185,
   "id": "3d074196-97a5-4f3b-a503-2aa242246477",
   "metadata": {},
   "outputs": [],
   "source": [
    "#assigning a scalar value to a slice\n"
   ]
  },
  {
   "cell_type": "code",
   "execution_count": 204,
   "id": "4ecc8c38-08e9-4bac-9c87-4b3db07ffcf8",
   "metadata": {},
   "outputs": [],
   "source": [
    "arr6[3:7] = 100"
   ]
  },
  {
   "cell_type": "code",
   "execution_count": 206,
   "id": "bad2f7d5-9bc4-4cc4-8ba8-db629fce270e",
   "metadata": {},
   "outputs": [
    {
     "data": {
      "text/plain": [
       "array([  0,   1,   2, 100, 100, 100, 100,   7,   8,   9])"
      ]
     },
     "execution_count": 206,
     "metadata": {},
     "output_type": "execute_result"
    }
   ],
   "source": [
    "arr6"
   ]
  },
  {
   "cell_type": "code",
   "execution_count": 208,
   "id": "65d9a6ea-dcb4-4c23-8dc4-6ff91a61bd06",
   "metadata": {},
   "outputs": [],
   "source": [
    "arr_slice = arr6[3:7]"
   ]
  },
  {
   "cell_type": "code",
   "execution_count": 210,
   "id": "b4e1aede-7c1a-4187-ac59-cc4867ddcc8a",
   "metadata": {},
   "outputs": [
    {
     "data": {
      "text/plain": [
       "array([100, 100, 100, 100])"
      ]
     },
     "execution_count": 210,
     "metadata": {},
     "output_type": "execute_result"
    }
   ],
   "source": [
    "arr_slice"
   ]
  },
  {
   "cell_type": "code",
   "execution_count": 212,
   "id": "120da3c6-30cd-4395-8a26-524fb9a12b6c",
   "metadata": {},
   "outputs": [
    {
     "data": {
      "text/plain": [
       "array([  0,   1,   2, 100, 100, 100, 100,   7,   8,   9])"
      ]
     },
     "execution_count": 212,
     "metadata": {},
     "output_type": "execute_result"
    }
   ],
   "source": [
    "arr6"
   ]
  },
  {
   "cell_type": "code",
   "execution_count": 217,
   "id": "33bf736e-e354-45e8-a9dc-d4705bf01e70",
   "metadata": {},
   "outputs": [],
   "source": [
    "arr_slice[1] =200"
   ]
  },
  {
   "cell_type": "code",
   "execution_count": 219,
   "id": "880ee3a0-f69c-43c6-80c0-b4f442941cc1",
   "metadata": {},
   "outputs": [
    {
     "data": {
      "text/plain": [
       "array([  0,   1,   2, 100, 200, 100, 100,   7,   8,   9])"
      ]
     },
     "execution_count": 219,
     "metadata": {},
     "output_type": "execute_result"
    }
   ],
   "source": [
    "arr6"
   ]
  },
  {
   "cell_type": "code",
   "execution_count": 221,
   "id": "353ea04f-b5ea-41e3-8669-b7f7bf96ef23",
   "metadata": {},
   "outputs": [
    {
     "data": {
      "text/plain": [
       "array([[1, 2, 3],\n",
       "       [4, 5, 6],\n",
       "       [7, 8, 9]])"
      ]
     },
     "execution_count": 221,
     "metadata": {},
     "output_type": "execute_result"
    }
   ],
   "source": [
    " arr2d = np.array([[1, 2, 3], [4, 5, 6], [7, 8, 9]])\n",
    "arr2d"
   ]
  },
  {
   "cell_type": "code",
   "execution_count": 223,
   "id": "97373439-231d-4389-88df-f4ac078d8915",
   "metadata": {},
   "outputs": [
    {
     "data": {
      "text/plain": [
       "3"
      ]
     },
     "execution_count": 223,
     "metadata": {},
     "output_type": "execute_result"
    }
   ],
   "source": [
    "arr2d[0][2]"
   ]
  },
  {
   "cell_type": "code",
   "execution_count": 234,
   "id": "992f5b7c-f656-4f83-af6b-6d69f17553eb",
   "metadata": {},
   "outputs": [
    {
     "data": {
      "text/plain": [
       "array([[[ 1,  2,  3],\n",
       "        [ 4,  5,  6]],\n",
       "\n",
       "       [[ 7,  8,  9],\n",
       "        [10, 11, 12]]])"
      ]
     },
     "execution_count": 234,
     "metadata": {},
     "output_type": "execute_result"
    }
   ],
   "source": [
    "arr3d = np.array([[[1, 2, 3], [4, 5, 6]], [[7, 8, 9], [10, 11, 12]]])\n",
    "arr3d"
   ]
  },
  {
   "cell_type": "code",
   "execution_count": null,
   "id": "3636b15e-c615-4d7f-8ffe-fe61037387a7",
   "metadata": {},
   "outputs": [],
   "source": []
  }
 ],
 "metadata": {
  "kernelspec": {
   "display_name": "Python 3 (ipykernel)",
   "language": "python",
   "name": "python3"
  },
  "language_info": {
   "codemirror_mode": {
    "name": "ipython",
    "version": 3
   },
   "file_extension": ".py",
   "mimetype": "text/x-python",
   "name": "python",
   "nbconvert_exporter": "python",
   "pygments_lexer": "ipython3",
   "version": "3.12.4"
  }
 },
 "nbformat": 4,
 "nbformat_minor": 5
}

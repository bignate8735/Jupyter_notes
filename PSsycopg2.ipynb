{
 "cells": [
  {
   "cell_type": "markdown",
   "id": "a3e4ee22-5e08-4cd6-8b99-4ad12673e224",
   "metadata": {},
   "source": [
    "# Pscopg2"
   ]
  },
  {
   "cell_type": "code",
   "execution_count": 62,
   "id": "9ba9cd68-e6eb-4fe8-a229-33d6b60a6b66",
   "metadata": {},
   "outputs": [],
   "source": [
    "import psycopg2"
   ]
  },
  {
   "cell_type": "code",
   "execution_count": 64,
   "id": "9354c4ef-5c50-4e54-b4bf-8ff8d1577f41",
   "metadata": {},
   "outputs": [],
   "source": [
    "# Connecting default db\n",
    "pgconn = psycopg2.connect(\n",
    "    host='localhost',\n",
    "    user= 'MAC',\n",
    "    password='BigNate@1234',\n",
    "    port=5433,\n",
    "    database='postgres')"
   ]
  },
  {
   "cell_type": "code",
   "execution_count": 77,
   "id": "8c78df30-954f-4299-b087-7c615cfa70ea",
   "metadata": {},
   "outputs": [],
   "source": [
    "#Cursor\n",
    "pgcursor = pgconn.cursor()"
   ]
  },
  {
   "cell_type": "code",
   "execution_count": 68,
   "id": "2187d61e-e048-4ad0-bcff-6f47ea605b7e",
   "metadata": {},
   "outputs": [],
   "source": [
    "# required code\n",
    "from psycopg2.extensions import ISOLATION_LEVEL_AUTOCOMMIT\n",
    "pgconn.set_isolation_level(ISOLATION_LEVEL_AUTOCOMMIT)"
   ]
  },
  {
   "cell_type": "markdown",
   "id": "368ab92e-0d57-4122-90e0-b2935f54022f",
   "metadata": {},
   "source": [
    "# Creating and Droping a Database"
   ]
  },
  {
   "cell_type": "code",
   "execution_count": 164,
   "id": "506c6f99-c526-405c-8b0a-80b6b7b7ee2b",
   "metadata": {},
   "outputs": [
    {
     "ename": "ObjectInUse",
     "evalue": "cannot drop the currently open database\n",
     "output_type": "error",
     "traceback": [
      "\u001b[0;31m---------------------------------------------------------------------------\u001b[0m",
      "\u001b[0;31mObjectInUse\u001b[0m                               Traceback (most recent call last)",
      "Cell \u001b[0;32mIn[164], line 2\u001b[0m\n\u001b[1;32m      1\u001b[0m \u001b[38;5;66;03m#Drop db\u001b[39;00m\n\u001b[0;32m----> 2\u001b[0m pgcursor\u001b[38;5;241m.\u001b[39mexecute(\u001b[38;5;124m'\u001b[39m\u001b[38;5;124mDROP DATABASE IF EXISTS crypto_db\u001b[39m\u001b[38;5;124m'\u001b[39m)\n",
      "\u001b[0;31mObjectInUse\u001b[0m: cannot drop the currently open database\n"
     ]
    }
   ],
   "source": [
    "#Drop db\n",
    "pgcursor.execute('DROP DATABASE IF EXISTS crypto_db')"
   ]
  },
  {
   "cell_type": "code",
   "execution_count": 166,
   "id": "e447686d-22a5-4c63-84c1-51fe3235ec3f",
   "metadata": {},
   "outputs": [
    {
     "ename": "DuplicateDatabase",
     "evalue": "database \"crypto_db\" already exists\n",
     "output_type": "error",
     "traceback": [
      "\u001b[0;31m---------------------------------------------------------------------------\u001b[0m",
      "\u001b[0;31mDuplicateDatabase\u001b[0m                         Traceback (most recent call last)",
      "Cell \u001b[0;32mIn[166], line 2\u001b[0m\n\u001b[1;32m      1\u001b[0m \u001b[38;5;66;03m# create db\u001b[39;00m\n\u001b[0;32m----> 2\u001b[0m pgcursor\u001b[38;5;241m.\u001b[39mexecute(\u001b[38;5;124m'\u001b[39m\u001b[38;5;124mCREATE DATABASE crypto_db\u001b[39m\u001b[38;5;124m'\u001b[39m)\n",
      "\u001b[0;31mDuplicateDatabase\u001b[0m: database \"crypto_db\" already exists\n"
     ]
    }
   ],
   "source": [
    "# create db\n",
    "pgcursor.execute('CREATE DATABASE crypto_db')\n"
   ]
  },
  {
   "cell_type": "code",
   "execution_count": 168,
   "id": "54a1a6fd-70ac-42e9-bba3-0c349f1e157e",
   "metadata": {},
   "outputs": [],
   "source": [
    "# commit changes\n",
    "pgconn.commit()"
   ]
  },
  {
   "cell_type": "markdown",
   "id": "6cf0860b-ab78-46c1-a232-66572181dcd4",
   "metadata": {},
   "source": [
    "# Playing with some data"
   ]
  },
  {
   "cell_type": "code",
   "execution_count": 170,
   "id": "f26b0b68-7412-4b09-a105-b492a3c51a6d",
   "metadata": {},
   "outputs": [],
   "source": [
    "teachers =[\n",
    "    ('Janet', 'Smith', 'F.D. Roosevelt HS', '2011-10-30', 36200),\n",
    "        ('Lee', 'Reynolds', 'F.D. Roosevelt HS', '1993-05-22', 65000), \n",
    "        ('Samuel', 'Cole', 'Myers Middle School', '2005-08-01', 43500), \n",
    "        ('Samantha', 'Bush', 'Myers Middle School', '2011-10-30', 36200), \n",
    "        ('Betty', 'Diaz', 'Myers Middle School', '2005-08-30', 43500),\n",
    "        ('Kathleen', 'Roush', 'F.D. Roosevelt HS', '2010-10-22', 38500),\n",
    "];"
   ]
  },
  {
   "cell_type": "code",
   "execution_count": 172,
   "id": "89488cc9-5453-485b-bb4b-18e935b1ce8f",
   "metadata": {},
   "outputs": [],
   "source": [
    "# connecting to db\n",
    "pgconn = psycopg2.connect(\n",
    "    host='localhost',\n",
    "    user= 'MAC',\n",
    "    password='BigNate@1234',\n",
    "    port=5433,\n",
    "    database='crypto_db')"
   ]
  },
  {
   "cell_type": "code",
   "execution_count": 174,
   "id": "34df7cf5-ac91-4b76-97b9-8551efd38a2c",
   "metadata": {},
   "outputs": [],
   "source": [
    "# required code\n",
    "from psycopg2.extensions import ISOLATION_LEVEL_AUTOCOMMIT\n",
    "pgconn.set_isolation_level(ISOLATION_LEVEL_AUTOCOMMIT)"
   ]
  },
  {
   "cell_type": "code",
   "execution_count": 91,
   "id": "8fc8eba1-daa0-4502-9717-48081c3d035c",
   "metadata": {},
   "outputs": [],
   "source": [
    "# cursor\n",
    "pgcursor = pgconn.cursor()"
   ]
  },
  {
   "cell_type": "markdown",
   "id": "dbdaf1d9-55e9-4254-9c52-d598ad905606",
   "metadata": {},
   "source": [
    "# How to check which database we are currently using\n"
   ]
  },
  {
   "cell_type": "code",
   "execution_count": 176,
   "id": "dc72a227-b9c3-43fd-9932-59896d126992",
   "metadata": {},
   "outputs": [
    {
     "data": {
      "text/plain": [
       "('crypto_db',)"
      ]
     },
     "execution_count": 176,
     "metadata": {},
     "output_type": "execute_result"
    }
   ],
   "source": [
    "pgcursor.execute('SELECT current_database()')\n",
    "pgcursor.fetchone()\n",
    "                 \n",
    "                 \n",
    "                "
   ]
  },
  {
   "cell_type": "markdown",
   "id": "941046c4-9ac4-4a9a-900e-dca970fc3630",
   "metadata": {},
   "source": [
    "# Dropping and creating a table"
   ]
  },
  {
   "cell_type": "code",
   "execution_count": 148,
   "id": "3ea536df-b695-4933-a7a7-22ab633bc232",
   "metadata": {},
   "outputs": [],
   "source": [
    "#Drop Table\n",
    "pgcursor.execute('DROP TABLE IF EXISTS teachers_table')"
   ]
  },
  {
   "cell_type": "code",
   "execution_count": 184,
   "id": "3f58c618-a7ef-4e78-9351-ab7ef663a94c",
   "metadata": {},
   "outputs": [],
   "source": [
    "# Create a table\n",
    "pgcursor.execute('''\n",
    "CREATE TABLE IF NOT EXISTS teachers_table\n",
    "(\n",
    "id bigserial,\n",
    "first_name varchar(25), \n",
    "last_name varchar(50), \n",
    "school varchar(50),\n",
    "hire_date date,\n",
    "salary numeric \n",
    ");\n",
    "''')"
   ]
  },
  {
   "cell_type": "markdown",
   "id": "5cf17eda-ad8e-47e8-8ce4-383a338ef190",
   "metadata": {},
   "source": [
    "# To insert data into the table\n",
    " "
   ]
  },
  {
   "cell_type": "code",
   "execution_count": 187,
   "id": "eb348106-b5fc-4a99-aa61-9e4046fa7680",
   "metadata": {},
   "outputs": [],
   "source": [
    "from psycopg2.extras import execute_values\n",
    "\n",
    "execute_values(pgcursor,\n",
    "    \"INSERT INTO teachers_table (first_name, last_name, school, hire_date, salary) VALUES %s\",\n",
    "    teachers)\n",
    "\n",
    "\n",
    "\n"
   ]
  },
  {
   "cell_type": "markdown",
   "id": "2d4e5d7d-4364-48c8-bf89-65e148480e4a",
   "metadata": {},
   "source": [
    "# Retrive Data "
   ]
  },
  {
   "cell_type": "code",
   "execution_count": 190,
   "id": "dbf5c9d3-825f-40fc-9851-5bc75cf5e1e1",
   "metadata": {},
   "outputs": [
    {
     "name": "stdout",
     "output_type": "stream",
     "text": [
      "(1, 'Janet', 'Smith', 'F.D. Roosevelt HS', datetime.date(2011, 10, 30), Decimal('36200'))\n",
      "(2, 'Lee', 'Reynolds', 'F.D. Roosevelt HS', datetime.date(1993, 5, 22), Decimal('65000'))\n",
      "(3, 'Samuel', 'Cole', 'Myers Middle School', datetime.date(2005, 8, 1), Decimal('43500'))\n",
      "(4, 'Samantha', 'Bush', 'Myers Middle School', datetime.date(2011, 10, 30), Decimal('36200'))\n",
      "(5, 'Betty', 'Diaz', 'Myers Middle School', datetime.date(2005, 8, 30), Decimal('43500'))\n",
      "(6, 'Kathleen', 'Roush', 'F.D. Roosevelt HS', datetime.date(2010, 10, 22), Decimal('38500'))\n"
     ]
    }
   ],
   "source": [
    "pgcursor.execute(\"Select * FrOM teachers_table\");\n",
    "\n",
    "for row in pgcursor.fetchall():\n",
    "    print(row)"
   ]
  },
  {
   "cell_type": "markdown",
   "id": "2014044e-cf5d-4b8c-a297-51c2e9c29021",
   "metadata": {},
   "source": [
    "# Delete data"
   ]
  },
  {
   "cell_type": "code",
   "execution_count": 193,
   "id": "f6261678-d015-4192-aee4-417bc21093de",
   "metadata": {},
   "outputs": [],
   "source": [
    "pgcursor.execute(\"TRUNCATE teachers_table Restart Identity\")\n"
   ]
  },
  {
   "cell_type": "code",
   "execution_count": 195,
   "id": "33236217-f764-45e8-8cad-a8692b82d078",
   "metadata": {},
   "outputs": [],
   "source": [
    "# commit\n",
    "pgconn.close()"
   ]
  },
  {
   "cell_type": "code",
   "execution_count": null,
   "id": "17fc2fac-9440-4f15-b6ef-a506befcdceb",
   "metadata": {},
   "outputs": [],
   "source": []
  }
 ],
 "metadata": {
  "kernelspec": {
   "display_name": "Python 3 (ipykernel)",
   "language": "python",
   "name": "python3"
  },
  "language_info": {
   "codemirror_mode": {
    "name": "ipython",
    "version": 3
   },
   "file_extension": ".py",
   "mimetype": "text/x-python",
   "name": "python",
   "nbconvert_exporter": "python",
   "pygments_lexer": "ipython3",
   "version": "3.12.4"
  }
 },
 "nbformat": 4,
 "nbformat_minor": 5
}
